{
 "cells": [
  {
   "cell_type": "code",
   "execution_count": 1,
   "metadata": {},
   "outputs": [],
   "source": [
    "# from pymagnitude import Magnitude"
   ]
  },
  {
   "cell_type": "code",
   "execution_count": 2,
   "metadata": {},
   "outputs": [],
   "source": [
    "# glove = Magnitude('data/magnitude/glove.6B.300d.magnitude')"
   ]
  },
  {
   "cell_type": "code",
   "execution_count": 3,
   "metadata": {},
   "outputs": [],
   "source": [
    "# fasttext = Magnitude('data/magnitude/wiki-news-300d-1M-subword.magnitude', case_insensitive=True)"
   ]
  },
  {
   "cell_type": "code",
   "execution_count": 4,
   "metadata": {},
   "outputs": [],
   "source": [
    "# print(glove.dim)\n",
    "# print(fasttext.dim)"
   ]
  },
  {
   "cell_type": "code",
   "execution_count": 5,
   "metadata": {
    "scrolled": true
   },
   "outputs": [],
   "source": [
    "# print(glove[0])"
   ]
  },
  {
   "cell_type": "code",
   "execution_count": 6,
   "metadata": {},
   "outputs": [],
   "source": [
    "# glove.query([\"I\", \"read\", \"a\", \"book\"])"
   ]
  },
  {
   "cell_type": "code",
   "execution_count": 7,
   "metadata": {},
   "outputs": [],
   "source": [
    "# fasttext.query([[\"I\", \"read\", \"a\", \"book\"], [\"I\", \"read\", \"a\", \"magazine\"]])"
   ]
  },
  {
   "cell_type": "code",
   "execution_count": 8,
   "metadata": {},
   "outputs": [],
   "source": [
    "# vectors = Magnitude(glove, fasttext)"
   ]
  },
  {
   "cell_type": "code",
   "execution_count": 9,
   "metadata": {},
   "outputs": [],
   "source": [
    "# vectors.query([\"I\", \"read\", \"a\", \"book\"])"
   ]
  },
  {
   "cell_type": "code",
   "execution_count": 10,
   "metadata": {},
   "outputs": [],
   "source": [
    "# vectors.query([[\"I\", \"read\", \"a\", \"book\"], [\"I\", \"read\", \"a\", \"magazine\"]])"
   ]
  },
  {
   "cell_type": "code",
   "execution_count": 11,
   "metadata": {},
   "outputs": [],
   "source": [
    "# print(vectors.dim)\n",
    "# emdim = vectors.dim"
   ]
  },
  {
   "cell_type": "code",
   "execution_count": 12,
   "metadata": {},
   "outputs": [],
   "source": [
    "# from keras import backend as K"
   ]
  },
  {
   "cell_type": "code",
   "execution_count": 13,
   "metadata": {},
   "outputs": [],
   "source": [
    "# K.print()"
   ]
  },
  {
   "cell_type": "code",
   "execution_count": 14,
   "metadata": {},
   "outputs": [],
   "source": [
    "# import tensorflow as tf\n",
    "# from keras import backend as K\n",
    "# from tensorflow.python import debug as tf_debug\n",
    "# K.set_session(tf_debug.LocalCLIDebugWrapperSession(tf.Session()))"
   ]
  },
  {
   "cell_type": "code",
   "execution_count": 1,
   "metadata": {},
   "outputs": [],
   "source": [
    "emdim = 600"
   ]
  },
  {
   "cell_type": "code",
   "execution_count": 2,
   "metadata": {},
   "outputs": [
    {
     "name": "stderr",
     "output_type": "stream",
     "text": [
      "Using TensorFlow backend.\n"
     ]
    }
   ],
   "source": [
    "from keras.layers import Input, TimeDistributed, LSTM, Bidirectional, Lambda\n",
    "from keras.models import Model\n",
    "from layers import Highway, Similarity, C2QAttention, Q2CAttention, MergedContext, SpanBegin, SpanEnd, CombineOutputs\n",
    "from scripts import negative_avg_log_error, BatchGenerator"
   ]
  },
  {
   "cell_type": "code",
   "execution_count": 3,
   "metadata": {},
   "outputs": [],
   "source": [
    "question_input = Input(shape=(None, emdim), dtype='float32', name=\"question_input\")\n",
    "passage_input = Input(shape=(None, emdim), dtype='float32', name=\"passage_input\")"
   ]
  },
  {
   "cell_type": "code",
   "execution_count": 4,
   "metadata": {},
   "outputs": [],
   "source": [
    "# def highway_layer(value, activation=\"tanh\", transform_gate_bias=-1.0):\n",
    "#     dim = K.int_shape(value)[-1]\n",
    "#     transform_gate_bias_initializer = keras.initializers.Constant(transform_gate_bias)\n",
    "#     transform_gate = Dense(units=dim, bias_initializer=transform_gate_bias_initializer)(value)\n",
    "#     transform_gate = Activation(\"sigmoid\")(transform_gate)\n",
    "#     carry_gate = Lambda(lambda x: 1.0 - x, output_shape=(dim,))(transform_gate)\n",
    "#     transformed_data = Dense(units=dim)(value)\n",
    "#     transformed_data = Activation(activation)(transformed_data)\n",
    "#     transformed_gated = Multiply()([transform_gate, transformed_data])\n",
    "#     identity_gated = Multiply()([carry_gate, value])\n",
    "#     value = Add()([transformed_gated, identity_gated])\n",
    "#     return value"
   ]
  },
  {
   "cell_type": "code",
   "execution_count": 5,
   "metadata": {},
   "outputs": [],
   "source": [
    "num_highway_layers = 2"
   ]
  },
  {
   "cell_type": "code",
   "execution_count": 6,
   "metadata": {},
   "outputs": [],
   "source": [
    "for i in range(num_highway_layers):\n",
    "    highway_layer = Highway(name='highway_{}'.format(i))\n",
    "    question_layer = TimeDistributed(highway_layer, name=highway_layer.name + \"_qtd\")\n",
    "    question_embedding = question_layer(question_input)\n",
    "    passage_layer = TimeDistributed(highway_layer, name=highway_layer.name + \"_ptd\")\n",
    "    passage_embedding = passage_layer(passage_input)"
   ]
  },
  {
   "cell_type": "code",
   "execution_count": 7,
   "metadata": {},
   "outputs": [],
   "source": [
    "#from keras import backend as K\n",
    "#def func(x):\n",
    "#    return K.eval(K.shape(x))(x, 'question_embedding')\n",
    "#question_embedding = Lambda(func)(question_embedding)"
   ]
  },
  {
   "cell_type": "code",
   "execution_count": 8,
   "metadata": {},
   "outputs": [],
   "source": [
    "# a = {'a': 1}\n",
    "# b = a.get('b')\n",
    "# print(b)\n",
    "# b in a"
   ]
  },
  {
   "cell_type": "code",
   "execution_count": 9,
   "metadata": {},
   "outputs": [],
   "source": [
    "# a = {'a': 1}\n",
    "# b = a.pop('a')\n",
    "# print(b)\n",
    "# print(a)"
   ]
  },
  {
   "cell_type": "code",
   "execution_count": 10,
   "metadata": {
    "scrolled": true
   },
   "outputs": [],
   "source": [
    "encoder_layer = Bidirectional(LSTM(emdim, return_sequences=True), name='bidirectional_encoder')\n",
    "encoded_question = encoder_layer(question_embedding)\n",
    "encoded_passage = encoder_layer(passage_embedding)"
   ]
  },
  {
   "cell_type": "code",
   "execution_count": 11,
   "metadata": {},
   "outputs": [],
   "source": [
    "similarity_matrix = Similarity(name='similarity_layer')([encoded_passage, encoded_question])"
   ]
  },
  {
   "cell_type": "code",
   "execution_count": 12,
   "metadata": {},
   "outputs": [],
   "source": [
    "# import numpy as np\n",
    "# a = np.random.random((600, 1))\n",
    "# b = np.random.random((600, 1))\n",
    "# c = np.dot(a.T, b)\n",
    "# print(c)"
   ]
  },
  {
   "cell_type": "code",
   "execution_count": 13,
   "metadata": {},
   "outputs": [
    {
     "name": "stdout",
     "output_type": "stream",
     "text": [
      "(None, None)\n",
      "(None, None, 1200)\n"
     ]
    }
   ],
   "source": [
    "context_to_query_attention = C2QAttention(name='context_to_query_attention')([similarity_matrix, encoded_question])\n",
    "query_to_context_attention = Q2CAttention(name='query_to_context_attention')([similarity_matrix, encoded_passage])"
   ]
  },
  {
   "cell_type": "code",
   "execution_count": 14,
   "metadata": {},
   "outputs": [],
   "source": [
    "merged_context = MergedContext(name='merged_context')([encoded_passage, context_to_query_attention, query_to_context_attention])"
   ]
  },
  {
   "cell_type": "code",
   "execution_count": 15,
   "metadata": {},
   "outputs": [],
   "source": [
    "num_decoders = 1"
   ]
  },
  {
   "cell_type": "code",
   "execution_count": 16,
   "metadata": {},
   "outputs": [],
   "source": [
    "modeled_passage = merged_context\n",
    "for i in range(num_decoders):\n",
    "    hidden_layer = Bidirectional(LSTM(emdim, return_sequences=True), name='bidirectional_decoder_{}'.format(i))\n",
    "    modeled_passage = hidden_layer(modeled_passage)"
   ]
  },
  {
   "cell_type": "code",
   "execution_count": 17,
   "metadata": {},
   "outputs": [],
   "source": [
    "span_begin_probabilities = SpanBegin(name='span_begin')([merged_context, modeled_passage])\n",
    "span_end_probabilities = SpanEnd(name='span_end')([encoded_passage, merged_context, modeled_passage, span_begin_probabilities])"
   ]
  },
  {
   "cell_type": "code",
   "execution_count": 18,
   "metadata": {},
   "outputs": [],
   "source": [
    "output = CombineOutputs(name='combine_outputs')([span_begin_probabilities, span_end_probabilities])"
   ]
  },
  {
   "cell_type": "code",
   "execution_count": null,
   "metadata": {},
   "outputs": [],
   "source": []
  },
  {
   "cell_type": "code",
   "execution_count": 19,
   "metadata": {},
   "outputs": [],
   "source": [
    "model = Model([passage_input, question_input], [output])"
   ]
  },
  {
   "cell_type": "code",
   "execution_count": 20,
   "metadata": {},
   "outputs": [
    {
     "name": "stdout",
     "output_type": "stream",
     "text": [
      "__________________________________________________________________________________________________\n",
      "Layer (type)                    Output Shape         Param #     Connected to                     \n",
      "==================================================================================================\n",
      "passage_input (InputLayer)      (None, None, 600)    0                                            \n",
      "__________________________________________________________________________________________________\n",
      "question_input (InputLayer)     (None, None, 600)    0                                            \n",
      "__________________________________________________________________________________________________\n",
      "highway_1_ptd (TimeDistributed) (None, None, 600)    0           passage_input[0][0]              \n",
      "__________________________________________________________________________________________________\n",
      "highway_1_qtd (TimeDistributed) (None, None, 600)    0           question_input[0][0]             \n",
      "__________________________________________________________________________________________________\n",
      "bidirectional_encoder (Bidirect (None, None, 1200)   5764800     highway_1_qtd[0][0]              \n",
      "                                                                 highway_1_ptd[0][0]              \n",
      "__________________________________________________________________________________________________\n",
      "similarity_layer (Similarity)   (None, None, None)   3601        bidirectional_encoder[1][0]      \n",
      "                                                                 bidirectional_encoder[0][0]      \n",
      "__________________________________________________________________________________________________\n",
      "context_to_query_attention (C2Q (None, None, 1200)   0           similarity_layer[0][0]           \n",
      "                                                                 bidirectional_encoder[0][0]      \n",
      "__________________________________________________________________________________________________\n",
      "query_to_context_attention (Q2C (None, None, 1200)   0           similarity_layer[0][0]           \n",
      "                                                                 bidirectional_encoder[1][0]      \n",
      "__________________________________________________________________________________________________\n",
      "merged_context (MergedContext)  (None, None, 4800)   0           bidirectional_encoder[1][0]      \n",
      "                                                                 context_to_query_attention[0][0] \n",
      "                                                                 query_to_context_attention[0][0] \n",
      "__________________________________________________________________________________________________\n",
      "bidirectional_decoder_0 (Bidire (None, None, 1200)   25924800    merged_context[0][0]             \n",
      "__________________________________________________________________________________________________\n",
      "span_begin (SpanBegin)          (None, None)         0           merged_context[0][0]             \n",
      "                                                                 bidirectional_decoder_0[0][0]    \n",
      "__________________________________________________________________________________________________\n",
      "span_end (SpanEnd)              (None, None)         0           bidirectional_encoder[1][0]      \n",
      "                                                                 merged_context[0][0]             \n",
      "                                                                 bidirectional_decoder_0[0][0]    \n",
      "                                                                 span_begin[0][0]                 \n",
      "__________________________________________________________________________________________________\n",
      "combine_outputs (CombineOutputs (None, 2, None)      0           span_begin[0][0]                 \n",
      "                                                                 span_end[0][0]                   \n",
      "==================================================================================================\n",
      "Total params: 31,693,201\n",
      "Trainable params: 31,693,201\n",
      "Non-trainable params: 0\n",
      "__________________________________________________________________________________________________\n"
     ]
    }
   ],
   "source": [
    "model.summary()"
   ]
  },
  {
   "cell_type": "code",
   "execution_count": 21,
   "metadata": {},
   "outputs": [],
   "source": [
    "model.compile(loss=negative_avg_log_error, optimizer='adadelta', metrics=[])"
   ]
  },
  {
   "cell_type": "code",
   "execution_count": 22,
   "metadata": {},
   "outputs": [],
   "source": [
    "train_generator = BatchGenerator('train')\n",
    "validate_generator = BatchGenerator('dev')"
   ]
  },
  {
   "cell_type": "code",
   "execution_count": 23,
   "metadata": {
    "scrolled": true
   },
   "outputs": [
    {
     "name": "stdout",
     "output_type": "stream",
     "text": [
      "Epoch 1/1\n",
      "2/2 [==============================] - 77s 39s/step - loss: 11.4518 - val_loss: 11.4704\n"
     ]
    }
   ],
   "source": [
    "history = model.fit_generator(train_generator, steps_per_epoch=2, epochs=1, validation_data=validate_generator, validation_steps=1, shuffle=False)"
   ]
  },
  {
   "cell_type": "code",
   "execution_count": 24,
   "metadata": {},
   "outputs": [],
   "source": [
    "model.save('bidaf')"
   ]
  },
  {
   "cell_type": "code",
   "execution_count": 25,
   "metadata": {},
   "outputs": [],
   "source": [
    "h = history.history"
   ]
  },
  {
   "cell_type": "code",
   "execution_count": 26,
   "metadata": {},
   "outputs": [],
   "source": [
    "x,y = train_generator.__getitem__(0)\n",
    "z = model.predict(x)"
   ]
  },
  {
   "cell_type": "code",
   "execution_count": 27,
   "metadata": {},
   "outputs": [
    {
     "name": "stdout",
     "output_type": "stream",
     "text": [
      "[1.         0.9999999  1.         1.         0.99999994 1.0000001\n",
      " 1.0000002  1.         0.9999999  1.         1.         1.\n",
      " 1.         0.99999964 1.0000001  0.99999976 1.0000002  1.0000002\n",
      " 1.0000002  1.0000002  1.0000004  1.0000002  1.0000005  1.0000002\n",
      " 0.99999994 0.99999976 1.0000001  0.9999999  1.0000002  1.\n",
      " 0.9999998  1.        ]\n",
      "[1.         1.0000004  0.99999964 0.99999976 1.0000002  0.9999999\n",
      " 0.9999999  0.99999994 0.9999999  0.99999976 1.0000001  1.\n",
      " 0.99999994 1.0000005  0.99999976 0.99999964 1.         1.0000004\n",
      " 1.         1.         0.9999997  1.         1.0000002  0.9999997\n",
      " 1.         0.99999994 0.9999996  0.9999997  0.9999999  1.0000002\n",
      " 0.99999964 0.9999996 ]\n"
     ]
    }
   ],
   "source": [
    "import numpy as np\n",
    "a = z[:,0,:]\n",
    "b = z[:,1,:]\n",
    "s = np.sum(a,axis=-1)\n",
    "v = np.sum(b,axis=-1)\n",
    "print(s)\n",
    "print(v)"
   ]
  },
  {
   "cell_type": "code",
   "execution_count": null,
   "metadata": {},
   "outputs": [],
   "source": [
    "# import numpy as np\n",
    "# a = np.random.random((10, 1))\n",
    "# b = np.random.random((10, 1))\n",
    "# # print(a)\n",
    "# print(b[0])\n",
    "# for v in a:\n",
    "#     for w in b:\n",
    "#         print(w)\n",
    "# #         c = a*b\n",
    "# #         print(c)\n",
    "#         break\n",
    "#     break"
   ]
  },
  {
   "cell_type": "code",
   "execution_count": null,
   "metadata": {},
   "outputs": [],
   "source": [
    "# print(encoded_question.shape[0])"
   ]
  },
  {
   "cell_type": "code",
   "execution_count": null,
   "metadata": {},
   "outputs": [],
   "source": [
    "# import numpy as np\n",
    "# from keras.layers import concatenate, multiply, dot, Input\n",
    "\n",
    "\n",
    "# def concatenate_and_multiply(context_vector, query_vector):\n",
    "#     element_wise_mul = multiply([context_vector, query_vector], axis=-1)\n",
    "#     concatenate_vecs = concatenate([context_vector, query_vector, element_wise_mul], axis=-1)\n",
    "#     return concatenate_vecs\n",
    "\n",
    "\n",
    "# a = np.random.random((10, 10, 20))\n",
    "# b = np.random.random((10, 15, 20))\n",
    "# v = Input(shape=(10, 20))\n",
    "# w = Input(shape=(15, 20))\n",
    "\n",
    "# kernel = np.random.random((60, ))\n",
    "# concatenated_vector = concatenate_and_multiply(v, w)\n",
    "# result = dot([kernel, concatenated_vector], axes=-1)\n",
    "# print(result.shape)"
   ]
  },
  {
   "cell_type": "code",
   "execution_count": null,
   "metadata": {},
   "outputs": [],
   "source": [
    "# import numpy as np \n",
    "# from keras import backend as K \n",
    "\n",
    "# A = np.random.random((1000,32,64,3))\n",
    "# # B = np.moveaxis( A, 3, 1)\n",
    "# C = np.transpose( A, (0,3,1,2))\n",
    "\n",
    "# print(A.shape)\n",
    "# print(C.shape)\n",
    "\n",
    "# A_t = K.variable(A)\n",
    "# C_t = K.permute_dimensions(A_t, (0,3,1,2))\n",
    "\n",
    "# print(K.eval(A_t).shape)\n",
    "# print(K.eval(C_t).shape)"
   ]
  },
  {
   "cell_type": "code",
   "execution_count": null,
   "metadata": {},
   "outputs": [],
   "source": [
    "# import numpy as np \n",
    "# from keras import backend as K \n",
    "# from keras.models import Input, Model\n",
    "# from keras.layers.advanced_activations import Softmax\n",
    "\n",
    "# A = np.random.random((10,32,64)).astype('float32')\n",
    "\n",
    "# i = Input(shape=(32,64), dtype='float32')\n",
    "# o = Softmax(axis=-1)(i)\n",
    "# model = Model([i], [o])\n",
    "# y = model.predict([A])\n",
    "# print(y)\n",
    "# print(y.shape)\n",
    "# print(np.sum(y, axis=-2))\n",
    "# print(np.sum(y, axis=-1))\n",
    "# print(np.sum(y, axis=-1).shape)\n",
    "# print(np.sum(y, axis=-2).shape)"
   ]
  },
  {
   "cell_type": "code",
   "execution_count": null,
   "metadata": {},
   "outputs": [],
   "source": [
    "# import numpy as np \n",
    "# from keras import backend as K \n",
    "\n",
    "# A = np.random.random((32,6))\n",
    "# # B = np.moveaxis( A, 3, 1)\n",
    "# # C = np.transpose( A, (0,3,1,2))\n",
    "# B = np.random.random((32, 6))\n",
    "\n",
    "# print(A.shape)\n",
    "# print(B.shape)\n",
    "\n",
    "# def mul(x):\n",
    "#     A, B = x\n",
    "#     print(K.int_shape(A))\n",
    "#     print(K.int_shape(B))\n",
    "#     return A*B\n",
    "\n",
    "# A_t = K.variable(A)\n",
    "# B_t = K.variable(B)\n",
    "# # C_t = K.permute_dimensions(A_t, (0,3,1,2))\n",
    "\n",
    "# C = K.map_fn(mul, (A_t, B_t), dtype='float32')\n",
    "\n",
    "# y = K.eval(C)"
   ]
  },
  {
   "cell_type": "code",
   "execution_count": null,
   "metadata": {},
   "outputs": [],
   "source": []
  },
  {
   "cell_type": "code",
   "execution_count": null,
   "metadata": {},
   "outputs": [],
   "source": []
  },
  {
   "cell_type": "code",
   "execution_count": null,
   "metadata": {},
   "outputs": [],
   "source": []
  },
  {
   "cell_type": "code",
   "execution_count": null,
   "metadata": {},
   "outputs": [],
   "source": []
  },
  {
   "cell_type": "code",
   "execution_count": null,
   "metadata": {},
   "outputs": [],
   "source": []
  },
  {
   "cell_type": "code",
   "execution_count": null,
   "metadata": {},
   "outputs": [],
   "source": []
  },
  {
   "cell_type": "code",
   "execution_count": null,
   "metadata": {},
   "outputs": [],
   "source": []
  },
  {
   "cell_type": "code",
   "execution_count": null,
   "metadata": {},
   "outputs": [],
   "source": []
  },
  {
   "cell_type": "code",
   "execution_count": null,
   "metadata": {},
   "outputs": [],
   "source": []
  },
  {
   "cell_type": "code",
   "execution_count": null,
   "metadata": {},
   "outputs": [],
   "source": []
  },
  {
   "cell_type": "code",
   "execution_count": null,
   "metadata": {},
   "outputs": [],
   "source": []
  },
  {
   "cell_type": "code",
   "execution_count": null,
   "metadata": {},
   "outputs": [],
   "source": []
  },
  {
   "cell_type": "code",
   "execution_count": null,
   "metadata": {},
   "outputs": [],
   "source": []
  }
 ],
 "metadata": {
  "kernelspec": {
   "display_name": "Python 3",
   "language": "python",
   "name": "python3"
  },
  "language_info": {
   "codemirror_mode": {
    "name": "ipython",
    "version": 3
   },
   "file_extension": ".py",
   "mimetype": "text/x-python",
   "name": "python",
   "nbconvert_exporter": "python",
   "pygments_lexer": "ipython3",
   "version": "3.6.3"
  }
 },
 "nbformat": 4,
 "nbformat_minor": 2
}
