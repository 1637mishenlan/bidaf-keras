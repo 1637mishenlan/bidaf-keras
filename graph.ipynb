{
 "cells": [
  {
   "cell_type": "code",
   "execution_count": 1,
   "metadata": {},
   "outputs": [],
   "source": [
    "# from pymagnitude import Magnitude"
   ]
  },
  {
   "cell_type": "code",
   "execution_count": 2,
   "metadata": {},
   "outputs": [],
   "source": [
    "# glove = Magnitude('data/magnitude/glove.6B.300d.magnitude')"
   ]
  },
  {
   "cell_type": "code",
   "execution_count": 3,
   "metadata": {},
   "outputs": [],
   "source": [
    "# fasttext = Magnitude('data/magnitude/wiki-news-300d-1M-subword.magnitude', case_insensitive=True)"
   ]
  },
  {
   "cell_type": "code",
   "execution_count": 4,
   "metadata": {},
   "outputs": [
    {
     "name": "stdout",
     "output_type": "stream",
     "text": [
      "300\n",
      "300\n"
     ]
    }
   ],
   "source": [
    "# print(glove.dim)\n",
    "# print(fasttext.dim)"
   ]
  },
  {
   "cell_type": "code",
   "execution_count": 6,
   "metadata": {
    "scrolled": true
   },
   "outputs": [
    {
     "name": "stdout",
     "output_type": "stream",
     "text": [
      "('the', array([ 8.986000e-03,  4.114330e-02, -1.435200e-03, -8.849740e-02,\n",
      "       -6.878300e-03,  4.563060e-02, -5.565290e-02,  4.153510e-02,\n",
      "       -2.602770e-02, -3.167679e-01, -5.035510e-02,  6.259700e-03,\n",
      "        1.092770e-02, -8.356000e-03, -4.182700e-03,  4.337830e-02,\n",
      "       -1.449980e-02, -1.293430e-02, -2.749640e-02,  7.493200e-03,\n",
      "       -3.657510e-02,  5.785510e-02,  7.585790e-02,  3.452160e-02,\n",
      "       -3.347170e-02, -4.087310e-02,  4.558040e-02, -1.229030e-02,\n",
      "       -8.167300e-02, -2.250550e-02,  1.809430e-02,  3.338100e-02,\n",
      "       -6.383030e-02,  9.478530e-02, -1.331591e-01, -1.784500e-02,\n",
      "        4.775160e-02, -3.472230e-02,  1.889610e-02,  1.604160e-02,\n",
      "        2.952680e-02, -5.264220e-02, -7.514200e-03,  1.050933e-01,\n",
      "        1.037114e-01,  5.617210e-02, -1.418800e-03,  9.240800e-03,\n",
      "       -7.866600e-02, -5.164400e-03,  3.458330e-02,  2.118500e-03,\n",
      "       -2.115840e-02, -5.094190e-02,  1.427990e-02,  5.063500e-02,\n",
      "       -2.910410e-02,  6.682170e-02,  4.971250e-02,  2.310380e-02,\n",
      "       -7.167000e-03, -1.381730e-02,  8.472230e-02, -7.867400e-03,\n",
      "        3.170000e-03, -8.615440e-02,  3.318990e-02,  8.925400e-03,\n",
      "        1.131720e-02,  8.009200e-03,  1.041186e-01,  1.013144e-01,\n",
      "        2.192650e-02, -9.324700e-03, -7.022240e-02,  3.609840e-02,\n",
      "        1.790270e-02, -2.147880e-02, -8.122330e-02,  2.700430e-02,\n",
      "       -7.592160e-02, -1.311330e-02,  2.352260e-02,  3.224420e-02,\n",
      "        1.450750e-02, -2.997100e-03, -3.763270e-02,  3.790100e-02,\n",
      "        1.026630e-02,  4.857760e-02, -6.725020e-02, -2.053110e-02,\n",
      "       -6.695490e-02, -3.671600e-02, -3.867680e-02,  2.345700e-02,\n",
      "       -5.637090e-02,  4.507100e-03, -2.242250e-02, -6.903160e-02,\n",
      "        1.202460e-02,  6.925550e-02,  5.608500e-03,  1.409000e-03,\n",
      "        9.550000e-04, -2.904240e-02, -2.376390e-02,  3.732010e-02,\n",
      "        2.349370e-02,  8.589000e-02,  4.853320e-02,  2.080710e-02,\n",
      "       -3.419160e-02,  7.467300e-03,  1.573510e-02,  2.830700e-02,\n",
      "        1.228740e-02,  1.183700e-02, -1.458470e-02, -7.280660e-02,\n",
      "        3.059000e-03, -5.855950e-02,  5.476130e-02, -8.108400e-03,\n",
      "       -7.857900e-03, -2.946890e-02,  1.447100e-02,  3.006330e-02,\n",
      "        2.013550e-02,  6.058790e-02,  3.726600e-02,  3.749760e-02,\n",
      "        2.930680e-02, -1.967040e-02, -3.625500e-03,  4.012620e-02,\n",
      "        2.579610e-02,  3.674300e-02, -4.932650e-02,  5.867140e-02,\n",
      "       -3.659200e-03,  3.888330e-02, -8.127150e-02, -1.450500e-03,\n",
      "       -5.399510e-02, -3.727570e-02,  8.917300e-03,  3.854370e-02,\n",
      "       -5.829900e-02,  4.966810e-02,  1.314452e-01, -3.745900e-02,\n",
      "        4.628870e-02,  4.341110e-02,  1.258811e-01, -2.617250e-02,\n",
      "       -3.354890e-02, -9.304200e-03, -2.288960e-02,  4.166000e-04,\n",
      "       -3.768300e-03,  2.305940e-02,  3.733740e-02, -7.878180e-02,\n",
      "       -1.601230e-02,  3.208790e-02, -2.045970e-02,  6.921110e-02,\n",
      "        3.265910e-02,  1.400970e-02, -4.786930e-02, -1.934610e-02,\n",
      "       -1.013067e-01, -3.424750e-02, -7.072800e-02,  5.052690e-02,\n",
      "       -2.330800e-03,  1.605550e-02, -4.154860e-02,  7.921610e-02,\n",
      "        5.623190e-02,  5.957660e-02,  1.522060e-02,  6.215890e-02,\n",
      "       -7.917400e-03, -2.117190e-02, -1.776370e-02, -2.381400e-02,\n",
      "       -3.168260e-02,  6.828660e-02, -1.597520e-02,  6.401940e-02,\n",
      "       -4.774390e-02, -9.443000e-03,  3.038950e-02,  3.664650e-02,\n",
      "       -5.141900e-03,  1.221970e-02, -2.059900e-03,  6.579110e-02,\n",
      "        2.722432e-01,  2.589460e-02,  5.440810e-02, -5.006370e-02,\n",
      "        1.066640e-02, -1.011790e-02, -4.977230e-02,  3.691500e-03,\n",
      "       -4.262200e-03,  6.197750e-02,  1.328170e-02,  9.882860e-02,\n",
      "        3.180220e-02, -3.897400e-02,  5.641720e-02,  1.902480e-02,\n",
      "        2.537000e-03, -2.055820e-02,  2.607400e-02, -8.749000e-03,\n",
      "        3.994480e-02, -9.345940e-02, -8.628180e-02,  6.428000e-04,\n",
      "        5.648000e-04, -2.118150e-02, -4.501680e-02,  4.331260e-02,\n",
      "       -2.027060e-02,  2.381400e-02,  2.118730e-02,  9.455800e-03,\n",
      "       -4.855250e-02,  7.781490e-02,  6.816310e-02,  3.599610e-02,\n",
      "       -4.559000e-03, -2.457640e-02,  2.214650e-02,  5.280240e-02,\n",
      "       -4.220100e-02,  3.048200e-03,  1.577837e-01, -4.591800e-03,\n",
      "       -1.649536e-01, -3.127150e-02,  3.488630e-02,  5.406700e-03,\n",
      "       -2.767590e-02,  2.536000e-04, -1.770470e-02, -1.731270e-02,\n",
      "        2.143240e-02, -3.223650e-02,  1.319660e-02, -1.686570e-02,\n",
      "       -7.679200e-03,  2.737500e-03,  4.089050e-02,  5.515690e-02,\n",
      "       -5.557770e-02, -1.138610e-02, -6.260100e-03, -9.073000e-04,\n",
      "       -3.291000e-02, -6.704900e-03, -2.217360e-02,  1.449280e-02,\n",
      "        1.920830e-02,  9.299200e-03, -1.423840e-02, -8.070600e-02,\n",
      "        7.965000e-04,  8.571820e-02, -3.099940e-02,  2.758720e-02,\n",
      "       -4.367162e-01, -5.277900e-03,  1.569287e-01,  1.494134e-01,\n",
      "       -4.948280e-02, -2.234150e-02, -2.312500e-02, -4.123020e-02,\n",
      "        5.486700e-03,  5.261320e-02,  5.988000e-03,  1.867870e-02,\n",
      "        1.307900e-03,  2.717800e-02, -2.521300e-03, -5.729340e-02,\n",
      "       -1.542310e-02,  3.763460e-02,  6.088900e-03,  5.501610e-02,\n",
      "       -1.687980e-02,  1.748800e-03, -4.050840e-02,  1.040510e-02],\n",
      "      dtype=float32))\n"
     ]
    }
   ],
   "source": [
    "# print(glove[0])"
   ]
  },
  {
   "cell_type": "code",
   "execution_count": 18,
   "metadata": {},
   "outputs": [
    {
     "data": {
      "text/plain": [
       "array([[-0.02280903,  0.02282331, -0.04478139, ..., -0.02167702,\n",
       "         0.00340514,  0.06512546],\n",
       "       [-0.0421094 , -0.0626592 ,  0.0066932 , ...,  0.0204491 ,\n",
       "        -0.0954911 , -0.0082391 ],\n",
       "       [-0.0482601 ,  0.015276  , -0.0157005 , ...,  0.0096996 ,\n",
       "        -0.0371193 ,  0.0480815 ],\n",
       "       [ 0.0080143 , -0.0090586 ,  0.0245809 , ...,  0.0844503 ,\n",
       "         0.0224759 , -0.0207853 ]], dtype=float32)"
      ]
     },
     "execution_count": 18,
     "metadata": {},
     "output_type": "execute_result"
    }
   ],
   "source": [
    "# glove.query([\"I\", \"read\", \"a\", \"book\"])"
   ]
  },
  {
   "cell_type": "code",
   "execution_count": 19,
   "metadata": {},
   "outputs": [
    {
     "data": {
      "text/plain": [
       "array([[[-0.0413727,  0.0290336,  0.0096557, ..., -0.0233056,\n",
       "          0.017242 , -0.0187049],\n",
       "        [-0.0613015, -0.0976044,  0.0546563, ..., -0.0688883,\n",
       "         -0.0051112, -0.0399671],\n",
       "        [-0.0041607, -0.050058 ,  0.0164242, ..., -0.0044358,\n",
       "         -0.0351897,  0.0133512],\n",
       "        [-0.0275018, -0.0647214,  0.0377438, ..., -0.0004722,\n",
       "         -0.0205171, -0.0230596]],\n",
       "\n",
       "       [[-0.0413727,  0.0290336,  0.0096557, ..., -0.0233056,\n",
       "          0.017242 , -0.0187049],\n",
       "        [-0.0613015, -0.0976044,  0.0546563, ..., -0.0688883,\n",
       "         -0.0051112, -0.0399671],\n",
       "        [-0.0041607, -0.050058 ,  0.0164242, ..., -0.0044358,\n",
       "         -0.0351897,  0.0133512],\n",
       "        [ 0.0170235, -0.0525393,  0.1137774, ..., -0.0401786,\n",
       "         -0.0365987, -0.0305128]]], dtype=float32)"
      ]
     },
     "execution_count": 19,
     "metadata": {},
     "output_type": "execute_result"
    }
   ],
   "source": [
    "# fasttext.query([[\"I\", \"read\", \"a\", \"book\"], [\"I\", \"read\", \"a\", \"magazine\"]])"
   ]
  },
  {
   "cell_type": "code",
   "execution_count": 4,
   "metadata": {},
   "outputs": [],
   "source": [
    "# vectors = Magnitude(glove, fasttext)"
   ]
  },
  {
   "cell_type": "code",
   "execution_count": 5,
   "metadata": {},
   "outputs": [
    {
     "data": {
      "text/plain": [
       "array([[-0.02280903,  0.02282331, -0.04478139, ..., -0.0233056 ,\n",
       "         0.017242  , -0.0187049 ],\n",
       "       [-0.0421094 , -0.0626592 ,  0.0066932 , ..., -0.0688883 ,\n",
       "        -0.0051112 , -0.0399671 ],\n",
       "       [-0.0482601 ,  0.015276  , -0.0157005 , ..., -0.0044358 ,\n",
       "        -0.0351897 ,  0.0133512 ],\n",
       "       [ 0.0080143 , -0.0090586 ,  0.0245809 , ..., -0.0004722 ,\n",
       "        -0.0205171 , -0.0230596 ]], dtype=float32)"
      ]
     },
     "execution_count": 5,
     "metadata": {},
     "output_type": "execute_result"
    }
   ],
   "source": [
    "# vectors.query([\"I\", \"read\", \"a\", \"book\"])"
   ]
  },
  {
   "cell_type": "code",
   "execution_count": 13,
   "metadata": {},
   "outputs": [
    {
     "data": {
      "text/plain": [
       "array([[[-0.02280903,  0.02282331, -0.04478139, ..., -0.0233056 ,\n",
       "          0.017242  , -0.0187049 ],\n",
       "        [-0.0421094 , -0.0626592 ,  0.0066932 , ..., -0.0688883 ,\n",
       "         -0.0051112 , -0.0399671 ],\n",
       "        [-0.0482601 ,  0.015276  , -0.0157005 , ..., -0.0044358 ,\n",
       "         -0.0351897 ,  0.0133512 ],\n",
       "        [ 0.0080143 , -0.0090586 ,  0.0245809 , ..., -0.0004722 ,\n",
       "         -0.0205171 , -0.0230596 ]],\n",
       "\n",
       "       [[-0.02280903,  0.02282331, -0.04478139, ..., -0.0233056 ,\n",
       "          0.017242  , -0.0187049 ],\n",
       "        [-0.0421094 , -0.0626592 ,  0.0066932 , ..., -0.0688883 ,\n",
       "         -0.0051112 , -0.0399671 ],\n",
       "        [-0.0482601 ,  0.015276  , -0.0157005 , ..., -0.0044358 ,\n",
       "         -0.0351897 ,  0.0133512 ],\n",
       "        [ 0.0623805 ,  0.0460008 ,  0.066375  , ..., -0.0401786 ,\n",
       "         -0.0365987 , -0.0305128 ]]], dtype=float32)"
      ]
     },
     "execution_count": 13,
     "metadata": {},
     "output_type": "execute_result"
    }
   ],
   "source": [
    "# vectors.query([[\"I\", \"read\", \"a\", \"book\"], [\"I\", \"read\", \"a\", \"magazine\"]])"
   ]
  },
  {
   "cell_type": "code",
   "execution_count": 5,
   "metadata": {},
   "outputs": [
    {
     "name": "stdout",
     "output_type": "stream",
     "text": [
      "600\n"
     ]
    }
   ],
   "source": [
    "# print(vectors.dim)\n",
    "# emdim = vectors.dim"
   ]
  },
  {
   "cell_type": "code",
   "execution_count": 1,
   "metadata": {},
   "outputs": [],
   "source": [
    "emdim = 600"
   ]
  },
  {
   "cell_type": "code",
   "execution_count": 2,
   "metadata": {},
   "outputs": [
    {
     "name": "stderr",
     "output_type": "stream",
     "text": [
      "Using TensorFlow backend.\n"
     ]
    }
   ],
   "source": [
    "from keras.layers import Input, TimeDistributed, LSTM, Bidirectional\n",
    "from keras.models import Model\n",
    "from layers import Highway, Similarity, C2QAttention, Q2CAttention, MergedContext, SpanBegin, SpanEnd\n",
    "from scripts import negative_avg_log_error, BatchGenerator"
   ]
  },
  {
   "cell_type": "code",
   "execution_count": 3,
   "metadata": {},
   "outputs": [],
   "source": [
    "question_input = Input(shape=(None, emdim), dtype='float32', name=\"question_input\")\n",
    "passage_input = Input(shape=(None, emdim), dtype='float32', name=\"passage_input\")"
   ]
  },
  {
   "cell_type": "code",
   "execution_count": 4,
   "metadata": {},
   "outputs": [],
   "source": [
    "# def highway_layer(value, activation=\"tanh\", transform_gate_bias=-1.0):\n",
    "#     dim = K.int_shape(value)[-1]\n",
    "#     transform_gate_bias_initializer = keras.initializers.Constant(transform_gate_bias)\n",
    "#     transform_gate = Dense(units=dim, bias_initializer=transform_gate_bias_initializer)(value)\n",
    "#     transform_gate = Activation(\"sigmoid\")(transform_gate)\n",
    "#     carry_gate = Lambda(lambda x: 1.0 - x, output_shape=(dim,))(transform_gate)\n",
    "#     transformed_data = Dense(units=dim)(value)\n",
    "#     transformed_data = Activation(activation)(transformed_data)\n",
    "#     transformed_gated = Multiply()([transform_gate, transformed_data])\n",
    "#     identity_gated = Multiply()([carry_gate, value])\n",
    "#     value = Add()([transformed_gated, identity_gated])\n",
    "#     return value"
   ]
  },
  {
   "cell_type": "code",
   "execution_count": 5,
   "metadata": {},
   "outputs": [],
   "source": [
    "num_highway_layers = 2"
   ]
  },
  {
   "cell_type": "code",
   "execution_count": 6,
   "metadata": {},
   "outputs": [],
   "source": [
    "for i in range(num_highway_layers):\n",
    "    highway_layer = Highway(name='highway_{}'.format(i))\n",
    "    question_layer = TimeDistributed(highway_layer, name=highway_layer.name + \"_qtd\")\n",
    "    question_embedding = question_layer(question_input)\n",
    "    passage_layer = TimeDistributed(highway_layer, name=highway_layer.name + \"_ptd\")\n",
    "    passage_embedding = passage_layer(passage_input)"
   ]
  },
  {
   "cell_type": "code",
   "execution_count": 6,
   "metadata": {},
   "outputs": [],
   "source": [
    "# model = keras.models.Sequential()\n",
    "# model.add(Dense(15, input_shape=(5, 125, 10)))\n",
    "# model.summary()"
   ]
  },
  {
   "cell_type": "code",
   "execution_count": 35,
   "metadata": {},
   "outputs": [
    {
     "name": "stdout",
     "output_type": "stream",
     "text": [
      "None\n"
     ]
    },
    {
     "data": {
      "text/plain": [
       "False"
      ]
     },
     "execution_count": 35,
     "metadata": {},
     "output_type": "execute_result"
    }
   ],
   "source": [
    "# a = {'a': 1}\n",
    "# b = a.get('b')\n",
    "# print(b)\n",
    "# b in a"
   ]
  },
  {
   "cell_type": "code",
   "execution_count": 43,
   "metadata": {},
   "outputs": [
    {
     "name": "stdout",
     "output_type": "stream",
     "text": [
      "1\n",
      "{}\n"
     ]
    }
   ],
   "source": [
    "# a = {'a': 1}\n",
    "# b = a.pop('a')\n",
    "# print(b)\n",
    "# print(a)"
   ]
  },
  {
   "cell_type": "code",
   "execution_count": 7,
   "metadata": {
    "scrolled": true
   },
   "outputs": [],
   "source": [
    "encoder_layer = Bidirectional(LSTM(emdim, return_sequences=True), name='bidirectional_encoder')\n",
    "encoded_question = encoder_layer(question_embedding)\n",
    "encoded_passage = encoder_layer(passage_embedding)"
   ]
  },
  {
   "cell_type": "code",
   "execution_count": 8,
   "metadata": {},
   "outputs": [],
   "source": [
    "similarity_matrix = Similarity(name='similarity_layer')([encoded_passage, encoded_question])"
   ]
  },
  {
   "cell_type": "code",
   "execution_count": 8,
   "metadata": {},
   "outputs": [],
   "source": [
    "# import numpy as np\n",
    "# a = np.random.random((600, 1))\n",
    "# b = np.random.random((600, 1))\n",
    "# c = np.dot(a.T, b)\n",
    "# print(c)"
   ]
  },
  {
   "cell_type": "code",
   "execution_count": 9,
   "metadata": {},
   "outputs": [],
   "source": [
    "context_to_query_attention = C2QAttention(name='context_to_query_attention')([similarity_matrix, encoded_passage])\n",
    "query_to_context_attention = Q2CAttention(name='query_to_context_attention')([similarity_matrix, encoded_question])"
   ]
  },
  {
   "cell_type": "code",
   "execution_count": 10,
   "metadata": {},
   "outputs": [],
   "source": [
    "merged_context = MergedContext(name='merged_context')([encoded_passage, context_to_query_attention, query_to_context_attention])"
   ]
  },
  {
   "cell_type": "code",
   "execution_count": 11,
   "metadata": {},
   "outputs": [],
   "source": [
    "num_decoders = 1"
   ]
  },
  {
   "cell_type": "code",
   "execution_count": 12,
   "metadata": {},
   "outputs": [],
   "source": [
    "modeled_passage = merged_context\n",
    "for i in range(num_decoders):\n",
    "    hidden_layer = Bidirectional(LSTM(emdim, return_sequences=True), name='bidirectional_decoder_{}'.format(i))\n",
    "    modeled_passage = hidden_layer(modeled_passage)"
   ]
  },
  {
   "cell_type": "code",
   "execution_count": 13,
   "metadata": {},
   "outputs": [],
   "source": [
    "span_begin_probabilities = SpanBegin(name='span_begin')([merged_context, modeled_passage])\n",
    "span_end_probabilities = SpanEnd(name='span_end')([encoded_passage, merged_context, modeled_passage, span_begin_probabilities])"
   ]
  },
  {
   "cell_type": "code",
   "execution_count": null,
   "metadata": {},
   "outputs": [],
   "source": []
  },
  {
   "cell_type": "code",
   "execution_count": null,
   "metadata": {},
   "outputs": [],
   "source": []
  },
  {
   "cell_type": "code",
   "execution_count": 14,
   "metadata": {},
   "outputs": [],
   "source": [
    "model = Model([question_input, passage_input], [span_begin_probabilities, span_end_probabilities])"
   ]
  },
  {
   "cell_type": "code",
   "execution_count": 15,
   "metadata": {},
   "outputs": [
    {
     "name": "stdout",
     "output_type": "stream",
     "text": [
      "__________________________________________________________________________________________________\n",
      "Layer (type)                    Output Shape         Param #     Connected to                     \n",
      "==================================================================================================\n",
      "passage_input (InputLayer)      (None, None, 600)    0                                            \n",
      "__________________________________________________________________________________________________\n",
      "question_input (InputLayer)     (None, None, 600)    0                                            \n",
      "__________________________________________________________________________________________________\n",
      "highway_1_ptd (TimeDistributed) (None, None, 600)    0           passage_input[0][0]              \n",
      "__________________________________________________________________________________________________\n",
      "highway_1_qtd (TimeDistributed) (None, None, 600)    0           question_input[0][0]             \n",
      "__________________________________________________________________________________________________\n",
      "bidirectional_encoder (Bidirect (None, None, 1200)   5764800     highway_1_qtd[0][0]              \n",
      "                                                                 highway_1_ptd[0][0]              \n",
      "__________________________________________________________________________________________________\n",
      "similarity_layer (Similarity)   (None, None, None)   3601        bidirectional_encoder[1][0]      \n",
      "                                                                 bidirectional_encoder[0][0]      \n",
      "__________________________________________________________________________________________________\n",
      "context_to_query_attention (C2Q (None, None, 1200)   0           similarity_layer[0][0]           \n",
      "                                                                 bidirectional_encoder[1][0]      \n",
      "__________________________________________________________________________________________________\n",
      "query_to_context_attention (Q2C (None, None, 1200)   0           similarity_layer[0][0]           \n",
      "                                                                 bidirectional_encoder[0][0]      \n",
      "__________________________________________________________________________________________________\n",
      "merged_context (MergedContext)  (None, None, 4800)   0           bidirectional_encoder[1][0]      \n",
      "                                                                 context_to_query_attention[0][0] \n",
      "                                                                 query_to_context_attention[0][0] \n",
      "__________________________________________________________________________________________________\n",
      "bidirectional_decoder_0 (Bidire (None, None, 1200)   25924800    merged_context[0][0]             \n",
      "__________________________________________________________________________________________________\n",
      "span_begin (SpanBegin)          (None, None)         0           merged_context[0][0]             \n",
      "                                                                 bidirectional_decoder_0[0][0]    \n",
      "__________________________________________________________________________________________________\n",
      "span_end (SpanEnd)              (None, None)         0           bidirectional_encoder[1][0]      \n",
      "                                                                 merged_context[0][0]             \n",
      "                                                                 bidirectional_decoder_0[0][0]    \n",
      "                                                                 span_begin[0][0]                 \n",
      "==================================================================================================\n",
      "Total params: 31,693,201\n",
      "Trainable params: 31,693,201\n",
      "Non-trainable params: 0\n",
      "__________________________________________________________________________________________________\n"
     ]
    }
   ],
   "source": [
    "model.summary()"
   ]
  },
  {
   "cell_type": "code",
   "execution_count": 16,
   "metadata": {},
   "outputs": [
    {
     "name": "stdout",
     "output_type": "stream",
     "text": [
      "(None, None)\n",
      "(None, 1)\n",
      "(None, 1)\n",
      "(None,)\n",
      "(1,)\n",
      "(1,)\n"
     ]
    },
    {
     "ename": "TypeError",
     "evalue": "int() argument must be a string, a bytes-like object or a number, not 'Tensor'",
     "output_type": "error",
     "traceback": [
      "\u001b[1;31m---------------------------------------------------------------------------\u001b[0m",
      "\u001b[1;31mTypeError\u001b[0m                                 Traceback (most recent call last)",
      "\u001b[1;32m<ipython-input-16-807b6d06a435>\u001b[0m in \u001b[0;36m<module>\u001b[1;34m()\u001b[0m\n\u001b[1;32m----> 1\u001b[1;33m \u001b[0mmodel\u001b[0m\u001b[1;33m.\u001b[0m\u001b[0mcompile\u001b[0m\u001b[1;33m(\u001b[0m\u001b[0mloss\u001b[0m\u001b[1;33m=\u001b[0m\u001b[0mnegative_avg_log_error\u001b[0m\u001b[1;33m,\u001b[0m \u001b[0moptimizer\u001b[0m\u001b[1;33m=\u001b[0m\u001b[1;34m'adadelta'\u001b[0m\u001b[1;33m,\u001b[0m \u001b[0mmetrics\u001b[0m\u001b[1;33m=\u001b[0m\u001b[1;34m'loss'\u001b[0m\u001b[1;33m)\u001b[0m\u001b[1;33m\u001b[0m\u001b[0m\n\u001b[0m",
      "\u001b[1;32mC:\\Python36\\lib\\site-packages\\keras\\engine\\training.py\u001b[0m in \u001b[0;36mcompile\u001b[1;34m(self, optimizer, loss, metrics, loss_weights, sample_weight_mode, weighted_metrics, target_tensors, **kwargs)\u001b[0m\n\u001b[0;32m    340\u001b[0m                 \u001b[1;32mwith\u001b[0m \u001b[0mK\u001b[0m\u001b[1;33m.\u001b[0m\u001b[0mname_scope\u001b[0m\u001b[1;33m(\u001b[0m\u001b[0mself\u001b[0m\u001b[1;33m.\u001b[0m\u001b[0moutput_names\u001b[0m\u001b[1;33m[\u001b[0m\u001b[0mi\u001b[0m\u001b[1;33m]\u001b[0m \u001b[1;33m+\u001b[0m \u001b[1;34m'_loss'\u001b[0m\u001b[1;33m)\u001b[0m\u001b[1;33m:\u001b[0m\u001b[1;33m\u001b[0m\u001b[0m\n\u001b[0;32m    341\u001b[0m                     output_loss = weighted_loss(y_true, y_pred,\n\u001b[1;32m--> 342\u001b[1;33m                                                 sample_weight, mask)\n\u001b[0m\u001b[0;32m    343\u001b[0m                 \u001b[1;32mif\u001b[0m \u001b[0mlen\u001b[0m\u001b[1;33m(\u001b[0m\u001b[0mself\u001b[0m\u001b[1;33m.\u001b[0m\u001b[0moutputs\u001b[0m\u001b[1;33m)\u001b[0m \u001b[1;33m>\u001b[0m \u001b[1;36m1\u001b[0m\u001b[1;33m:\u001b[0m\u001b[1;33m\u001b[0m\u001b[0m\n\u001b[0;32m    344\u001b[0m                     \u001b[0mself\u001b[0m\u001b[1;33m.\u001b[0m\u001b[0mmetrics_tensors\u001b[0m\u001b[1;33m.\u001b[0m\u001b[0mappend\u001b[0m\u001b[1;33m(\u001b[0m\u001b[0moutput_loss\u001b[0m\u001b[1;33m)\u001b[0m\u001b[1;33m\u001b[0m\u001b[0m\n",
      "\u001b[1;32mC:\\Python36\\lib\\site-packages\\keras\\engine\\training_utils.py\u001b[0m in \u001b[0;36mweighted\u001b[1;34m(y_true, y_pred, weights, mask)\u001b[0m\n\u001b[0;32m    402\u001b[0m         \"\"\"\n\u001b[0;32m    403\u001b[0m         \u001b[1;31m# score_array has ndim >= 2\u001b[0m\u001b[1;33m\u001b[0m\u001b[1;33m\u001b[0m\u001b[0m\n\u001b[1;32m--> 404\u001b[1;33m         \u001b[0mscore_array\u001b[0m \u001b[1;33m=\u001b[0m \u001b[0mfn\u001b[0m\u001b[1;33m(\u001b[0m\u001b[0my_true\u001b[0m\u001b[1;33m,\u001b[0m \u001b[0my_pred\u001b[0m\u001b[1;33m)\u001b[0m\u001b[1;33m\u001b[0m\u001b[0m\n\u001b[0m\u001b[0;32m    405\u001b[0m         \u001b[1;32mif\u001b[0m \u001b[0mmask\u001b[0m \u001b[1;32mis\u001b[0m \u001b[1;32mnot\u001b[0m \u001b[1;32mNone\u001b[0m\u001b[1;33m:\u001b[0m\u001b[1;33m\u001b[0m\u001b[0m\n\u001b[0;32m    406\u001b[0m             \u001b[1;31m# Cast the mask to floatX to avoid float64 upcasting in Theano\u001b[0m\u001b[1;33m\u001b[0m\u001b[1;33m\u001b[0m\u001b[0m\n",
      "\u001b[1;32mE:\\Deep Learning Material\\IMP for Project\\model\\scripts\\loss_function.py\u001b[0m in \u001b[0;36mnegative_avg_log_error\u001b[1;34m(y_true, y_pred)\u001b[0m\n\u001b[0;32m     19\u001b[0m     \u001b[0mprint\u001b[0m\u001b[1;33m(\u001b[0m\u001b[0mK\u001b[0m\u001b[1;33m.\u001b[0m\u001b[0mint_shape\u001b[0m\u001b[1;33m(\u001b[0m\u001b[0my_pred\u001b[0m\u001b[1;33m[\u001b[0m\u001b[1;36m0\u001b[0m\u001b[1;33m]\u001b[0m\u001b[1;33m)\u001b[0m\u001b[1;33m)\u001b[0m\u001b[1;33m\u001b[0m\u001b[0m\n\u001b[0;32m     20\u001b[0m     \u001b[0mprint\u001b[0m\u001b[1;33m(\u001b[0m\u001b[0mK\u001b[0m\u001b[1;33m.\u001b[0m\u001b[0mint_shape\u001b[0m\u001b[1;33m(\u001b[0m\u001b[0my_pred\u001b[0m\u001b[1;33m[\u001b[0m\u001b[1;36m1\u001b[0m\u001b[1;33m]\u001b[0m\u001b[1;33m)\u001b[0m\u001b[1;33m)\u001b[0m\u001b[1;33m\u001b[0m\u001b[0m\n\u001b[1;32m---> 21\u001b[1;33m     \u001b[0mbatch_probability_sum\u001b[0m \u001b[1;33m=\u001b[0m \u001b[0mK\u001b[0m\u001b[1;33m.\u001b[0m\u001b[0mmap_fn\u001b[0m\u001b[1;33m(\u001b[0m\u001b[0msum_of_log_probabilities\u001b[0m\u001b[1;33m,\u001b[0m \u001b[1;33m(\u001b[0m\u001b[0my_true\u001b[0m\u001b[1;33m,\u001b[0m \u001b[0my_pred\u001b[0m\u001b[1;33m[\u001b[0m\u001b[1;36m0\u001b[0m\u001b[1;33m]\u001b[0m\u001b[1;33m,\u001b[0m \u001b[0my_pred\u001b[0m\u001b[1;33m[\u001b[0m\u001b[1;36m1\u001b[0m\u001b[1;33m]\u001b[0m\u001b[1;33m)\u001b[0m\u001b[1;33m,\u001b[0m \u001b[0mdtype\u001b[0m\u001b[1;33m=\u001b[0m\u001b[1;34m'float32'\u001b[0m\u001b[1;33m)\u001b[0m\u001b[1;33m\u001b[0m\u001b[0m\n\u001b[0m\u001b[0;32m     22\u001b[0m     \u001b[1;32mreturn\u001b[0m \u001b[1;33m-\u001b[0m\u001b[0mK\u001b[0m\u001b[1;33m.\u001b[0m\u001b[0mmean\u001b[0m\u001b[1;33m(\u001b[0m\u001b[0mbatch_probability_sum\u001b[0m\u001b[1;33m,\u001b[0m \u001b[0maxis\u001b[0m\u001b[1;33m=\u001b[0m\u001b[1;36m1\u001b[0m\u001b[1;33m)\u001b[0m\u001b[1;33m\u001b[0m\u001b[0m\n",
      "\u001b[1;32mC:\\Python36\\lib\\site-packages\\keras\\backend\\tensorflow_backend.py\u001b[0m in \u001b[0;36mmap_fn\u001b[1;34m(fn, elems, name, dtype)\u001b[0m\n\u001b[0;32m   4319\u001b[0m         \u001b[0mTensor\u001b[0m \u001b[1;32mwith\u001b[0m \u001b[0mdtype\u001b[0m\u001b[0;31m \u001b[0m\u001b[0;31m`\u001b[0m\u001b[0mdtype\u001b[0m\u001b[0;31m`\u001b[0m\u001b[1;33m.\u001b[0m\u001b[1;33m\u001b[0m\u001b[0m\n\u001b[0;32m   4320\u001b[0m     \"\"\"\n\u001b[1;32m-> 4321\u001b[1;33m     \u001b[1;32mreturn\u001b[0m \u001b[0mtf\u001b[0m\u001b[1;33m.\u001b[0m\u001b[0mmap_fn\u001b[0m\u001b[1;33m(\u001b[0m\u001b[0mfn\u001b[0m\u001b[1;33m,\u001b[0m \u001b[0melems\u001b[0m\u001b[1;33m,\u001b[0m \u001b[0mname\u001b[0m\u001b[1;33m=\u001b[0m\u001b[0mname\u001b[0m\u001b[1;33m,\u001b[0m \u001b[0mdtype\u001b[0m\u001b[1;33m=\u001b[0m\u001b[0mdtype\u001b[0m\u001b[1;33m)\u001b[0m\u001b[1;33m\u001b[0m\u001b[0m\n\u001b[0m\u001b[0;32m   4322\u001b[0m \u001b[1;33m\u001b[0m\u001b[0m\n\u001b[0;32m   4323\u001b[0m \u001b[1;33m\u001b[0m\u001b[0m\n",
      "\u001b[1;32mC:\\Python36\\lib\\site-packages\\tensorflow\\python\\ops\\functional_ops.py\u001b[0m in \u001b[0;36mmap_fn\u001b[1;34m(fn, elems, dtype, parallel_iterations, back_prop, swap_memory, infer_shape, name)\u001b[0m\n\u001b[0;32m    492\u001b[0m         \u001b[0mback_prop\u001b[0m\u001b[1;33m=\u001b[0m\u001b[0mback_prop\u001b[0m\u001b[1;33m,\u001b[0m\u001b[1;33m\u001b[0m\u001b[0m\n\u001b[0;32m    493\u001b[0m         \u001b[0mswap_memory\u001b[0m\u001b[1;33m=\u001b[0m\u001b[0mswap_memory\u001b[0m\u001b[1;33m,\u001b[0m\u001b[1;33m\u001b[0m\u001b[0m\n\u001b[1;32m--> 494\u001b[1;33m         maximum_iterations=n)\n\u001b[0m\u001b[0;32m    495\u001b[0m     \u001b[0mresults_flat\u001b[0m \u001b[1;33m=\u001b[0m \u001b[1;33m[\u001b[0m\u001b[0mr\u001b[0m\u001b[1;33m.\u001b[0m\u001b[0mstack\u001b[0m\u001b[1;33m(\u001b[0m\u001b[1;33m)\u001b[0m \u001b[1;32mfor\u001b[0m \u001b[0mr\u001b[0m \u001b[1;32min\u001b[0m \u001b[0mr_a\u001b[0m\u001b[1;33m]\u001b[0m\u001b[1;33m\u001b[0m\u001b[0m\n\u001b[0;32m    496\u001b[0m \u001b[1;33m\u001b[0m\u001b[0m\n",
      "\u001b[1;32mC:\\Python36\\lib\\site-packages\\tensorflow\\python\\ops\\control_flow_ops.py\u001b[0m in \u001b[0;36mwhile_loop\u001b[1;34m(cond, body, loop_vars, shape_invariants, parallel_iterations, back_prop, swap_memory, name, maximum_iterations, return_same_structure)\u001b[0m\n\u001b[0;32m   3289\u001b[0m       \u001b[0mops\u001b[0m\u001b[1;33m.\u001b[0m\u001b[0madd_to_collection\u001b[0m\u001b[1;33m(\u001b[0m\u001b[0mops\u001b[0m\u001b[1;33m.\u001b[0m\u001b[0mGraphKeys\u001b[0m\u001b[1;33m.\u001b[0m\u001b[0mWHILE_CONTEXT\u001b[0m\u001b[1;33m,\u001b[0m \u001b[0mloop_context\u001b[0m\u001b[1;33m)\u001b[0m\u001b[1;33m\u001b[0m\u001b[0m\n\u001b[0;32m   3290\u001b[0m     result = loop_context.BuildLoop(cond, body, loop_vars, shape_invariants,\n\u001b[1;32m-> 3291\u001b[1;33m                                     return_same_structure)\n\u001b[0m\u001b[0;32m   3292\u001b[0m     \u001b[1;32mif\u001b[0m \u001b[0mmaximum_iterations\u001b[0m \u001b[1;32mis\u001b[0m \u001b[1;32mnot\u001b[0m \u001b[1;32mNone\u001b[0m\u001b[1;33m:\u001b[0m\u001b[1;33m\u001b[0m\u001b[0m\n\u001b[0;32m   3293\u001b[0m       \u001b[1;32mreturn\u001b[0m \u001b[0mresult\u001b[0m\u001b[1;33m[\u001b[0m\u001b[1;36m1\u001b[0m\u001b[1;33m]\u001b[0m\u001b[1;33m\u001b[0m\u001b[0m\n",
      "\u001b[1;32mC:\\Python36\\lib\\site-packages\\tensorflow\\python\\ops\\control_flow_ops.py\u001b[0m in \u001b[0;36mBuildLoop\u001b[1;34m(self, pred, body, loop_vars, shape_invariants, return_same_structure)\u001b[0m\n\u001b[0;32m   3002\u001b[0m       \u001b[1;32mwith\u001b[0m \u001b[0mops\u001b[0m\u001b[1;33m.\u001b[0m\u001b[0mget_default_graph\u001b[0m\u001b[1;33m(\u001b[0m\u001b[1;33m)\u001b[0m\u001b[1;33m.\u001b[0m\u001b[0m_mutation_lock\u001b[0m\u001b[1;33m(\u001b[0m\u001b[1;33m)\u001b[0m\u001b[1;33m:\u001b[0m  \u001b[1;31m# pylint: disable=protected-access\u001b[0m\u001b[1;33m\u001b[0m\u001b[0m\n\u001b[0;32m   3003\u001b[0m         original_body_result, exit_vars = self._BuildLoop(\n\u001b[1;32m-> 3004\u001b[1;33m             pred, body, original_loop_vars, loop_vars, shape_invariants)\n\u001b[0m\u001b[0;32m   3005\u001b[0m     \u001b[1;32mfinally\u001b[0m\u001b[1;33m:\u001b[0m\u001b[1;33m\u001b[0m\u001b[0m\n\u001b[0;32m   3006\u001b[0m       \u001b[0mself\u001b[0m\u001b[1;33m.\u001b[0m\u001b[0mExit\u001b[0m\u001b[1;33m(\u001b[0m\u001b[1;33m)\u001b[0m\u001b[1;33m\u001b[0m\u001b[0m\n",
      "\u001b[1;32mC:\\Python36\\lib\\site-packages\\tensorflow\\python\\ops\\control_flow_ops.py\u001b[0m in \u001b[0;36m_BuildLoop\u001b[1;34m(self, pred, body, original_loop_vars, loop_vars, shape_invariants)\u001b[0m\n\u001b[0;32m   2937\u001b[0m         flat_sequence=vars_for_body_with_tensor_arrays)\n\u001b[0;32m   2938\u001b[0m     \u001b[0mpre_summaries\u001b[0m \u001b[1;33m=\u001b[0m \u001b[0mops\u001b[0m\u001b[1;33m.\u001b[0m\u001b[0mget_collection\u001b[0m\u001b[1;33m(\u001b[0m\u001b[0mops\u001b[0m\u001b[1;33m.\u001b[0m\u001b[0mGraphKeys\u001b[0m\u001b[1;33m.\u001b[0m\u001b[0m_SUMMARY_COLLECTION\u001b[0m\u001b[1;33m)\u001b[0m  \u001b[1;31m# pylint: disable=protected-access\u001b[0m\u001b[1;33m\u001b[0m\u001b[0m\n\u001b[1;32m-> 2939\u001b[1;33m     \u001b[0mbody_result\u001b[0m \u001b[1;33m=\u001b[0m \u001b[0mbody\u001b[0m\u001b[1;33m(\u001b[0m\u001b[1;33m*\u001b[0m\u001b[0mpacked_vars_for_body\u001b[0m\u001b[1;33m)\u001b[0m\u001b[1;33m\u001b[0m\u001b[0m\n\u001b[0m\u001b[0;32m   2940\u001b[0m     \u001b[0mpost_summaries\u001b[0m \u001b[1;33m=\u001b[0m \u001b[0mops\u001b[0m\u001b[1;33m.\u001b[0m\u001b[0mget_collection\u001b[0m\u001b[1;33m(\u001b[0m\u001b[0mops\u001b[0m\u001b[1;33m.\u001b[0m\u001b[0mGraphKeys\u001b[0m\u001b[1;33m.\u001b[0m\u001b[0m_SUMMARY_COLLECTION\u001b[0m\u001b[1;33m)\u001b[0m  \u001b[1;31m# pylint: disable=protected-access\u001b[0m\u001b[1;33m\u001b[0m\u001b[0m\n\u001b[0;32m   2941\u001b[0m     \u001b[1;32mif\u001b[0m \u001b[1;32mnot\u001b[0m \u001b[0mnest\u001b[0m\u001b[1;33m.\u001b[0m\u001b[0mis_sequence\u001b[0m\u001b[1;33m(\u001b[0m\u001b[0mbody_result\u001b[0m\u001b[1;33m)\u001b[0m\u001b[1;33m:\u001b[0m\u001b[1;33m\u001b[0m\u001b[0m\n",
      "\u001b[1;32mC:\\Python36\\lib\\site-packages\\tensorflow\\python\\ops\\control_flow_ops.py\u001b[0m in \u001b[0;36m<lambda>\u001b[1;34m(i, lv)\u001b[0m\n\u001b[0;32m   3258\u001b[0m         cond = lambda i, lv: (  # pylint: disable=g-long-lambda\n\u001b[0;32m   3259\u001b[0m             math_ops.logical_and(i < maximum_iterations, orig_cond(*lv)))\n\u001b[1;32m-> 3260\u001b[1;33m         \u001b[0mbody\u001b[0m \u001b[1;33m=\u001b[0m \u001b[1;32mlambda\u001b[0m \u001b[0mi\u001b[0m\u001b[1;33m,\u001b[0m \u001b[0mlv\u001b[0m\u001b[1;33m:\u001b[0m \u001b[1;33m(\u001b[0m\u001b[0mi\u001b[0m \u001b[1;33m+\u001b[0m \u001b[1;36m1\u001b[0m\u001b[1;33m,\u001b[0m \u001b[0morig_body\u001b[0m\u001b[1;33m(\u001b[0m\u001b[1;33m*\u001b[0m\u001b[0mlv\u001b[0m\u001b[1;33m)\u001b[0m\u001b[1;33m)\u001b[0m\u001b[1;33m\u001b[0m\u001b[0m\n\u001b[0m\u001b[0;32m   3261\u001b[0m \u001b[1;33m\u001b[0m\u001b[0m\n\u001b[0;32m   3262\u001b[0m     \u001b[1;32mif\u001b[0m \u001b[0mcontext\u001b[0m\u001b[1;33m.\u001b[0m\u001b[0mexecuting_eagerly\u001b[0m\u001b[1;33m(\u001b[0m\u001b[1;33m)\u001b[0m\u001b[1;33m:\u001b[0m\u001b[1;33m\u001b[0m\u001b[0m\n",
      "\u001b[1;32mC:\\Python36\\lib\\site-packages\\tensorflow\\python\\ops\\functional_ops.py\u001b[0m in \u001b[0;36mcompute\u001b[1;34m(i, tas)\u001b[0m\n\u001b[0;32m    481\u001b[0m       \"\"\"\n\u001b[0;32m    482\u001b[0m       \u001b[0mpacked_values\u001b[0m \u001b[1;33m=\u001b[0m \u001b[0minput_pack\u001b[0m\u001b[1;33m(\u001b[0m\u001b[1;33m[\u001b[0m\u001b[0melem_ta\u001b[0m\u001b[1;33m.\u001b[0m\u001b[0mread\u001b[0m\u001b[1;33m(\u001b[0m\u001b[0mi\u001b[0m\u001b[1;33m)\u001b[0m \u001b[1;32mfor\u001b[0m \u001b[0melem_ta\u001b[0m \u001b[1;32min\u001b[0m \u001b[0melems_ta\u001b[0m\u001b[1;33m]\u001b[0m\u001b[1;33m)\u001b[0m\u001b[1;33m\u001b[0m\u001b[0m\n\u001b[1;32m--> 483\u001b[1;33m       \u001b[0mpacked_fn_values\u001b[0m \u001b[1;33m=\u001b[0m \u001b[0mfn\u001b[0m\u001b[1;33m(\u001b[0m\u001b[0mpacked_values\u001b[0m\u001b[1;33m)\u001b[0m\u001b[1;33m\u001b[0m\u001b[0m\n\u001b[0m\u001b[0;32m    484\u001b[0m       \u001b[0mnest\u001b[0m\u001b[1;33m.\u001b[0m\u001b[0massert_same_structure\u001b[0m\u001b[1;33m(\u001b[0m\u001b[0mdtype\u001b[0m \u001b[1;32mor\u001b[0m \u001b[0melems\u001b[0m\u001b[1;33m,\u001b[0m \u001b[0mpacked_fn_values\u001b[0m\u001b[1;33m)\u001b[0m\u001b[1;33m\u001b[0m\u001b[0m\n\u001b[0;32m    485\u001b[0m       \u001b[0mflat_fn_values\u001b[0m \u001b[1;33m=\u001b[0m \u001b[0moutput_flatten\u001b[0m\u001b[1;33m(\u001b[0m\u001b[0mpacked_fn_values\u001b[0m\u001b[1;33m)\u001b[0m\u001b[1;33m\u001b[0m\u001b[0m\n",
      "\u001b[1;32mE:\\Deep Learning Material\\IMP for Project\\model\\scripts\\loss_function.py\u001b[0m in \u001b[0;36msum_of_log_probabilities\u001b[1;34m(true_and_pred)\u001b[0m\n\u001b[0;32m     10\u001b[0m         \u001b[0mprint\u001b[0m\u001b[1;33m(\u001b[0m\u001b[0mK\u001b[0m\u001b[1;33m.\u001b[0m\u001b[0mint_shape\u001b[0m\u001b[1;33m(\u001b[0m\u001b[0my_pred_start\u001b[0m\u001b[1;33m)\u001b[0m\u001b[1;33m)\u001b[0m\u001b[1;33m\u001b[0m\u001b[0m\n\u001b[0;32m     11\u001b[0m         \u001b[0mprint\u001b[0m\u001b[1;33m(\u001b[0m\u001b[0mK\u001b[0m\u001b[1;33m.\u001b[0m\u001b[0mint_shape\u001b[0m\u001b[1;33m(\u001b[0m\u001b[0my_pred_end\u001b[0m\u001b[1;33m)\u001b[0m\u001b[1;33m)\u001b[0m\u001b[1;33m\u001b[0m\u001b[0m\n\u001b[1;32m---> 12\u001b[1;33m         \u001b[0mstart_index\u001b[0m \u001b[1;33m=\u001b[0m \u001b[0mint\u001b[0m\u001b[1;33m(\u001b[0m\u001b[0my_true\u001b[0m\u001b[1;33m[\u001b[0m\u001b[1;36m0\u001b[0m\u001b[1;33m]\u001b[0m\u001b[1;33m)\u001b[0m\u001b[1;33m\u001b[0m\u001b[0m\n\u001b[0m\u001b[0;32m     13\u001b[0m         \u001b[0mend_index\u001b[0m \u001b[1;33m=\u001b[0m \u001b[0mint\u001b[0m\u001b[1;33m(\u001b[0m\u001b[0my_true\u001b[0m\u001b[1;33m[\u001b[0m\u001b[1;36m1\u001b[0m\u001b[1;33m]\u001b[0m\u001b[1;33m)\u001b[0m\u001b[1;33m\u001b[0m\u001b[0m\n\u001b[0;32m     14\u001b[0m         \u001b[0mstart_probability\u001b[0m \u001b[1;33m=\u001b[0m \u001b[0my_pred\u001b[0m\u001b[1;33m[\u001b[0m\u001b[0mstart_index\u001b[0m\u001b[1;33m]\u001b[0m\u001b[1;33m\u001b[0m\u001b[0m\n",
      "\u001b[1;31mTypeError\u001b[0m: int() argument must be a string, a bytes-like object or a number, not 'Tensor'"
     ]
    }
   ],
   "source": [
    "model.compile(loss=negative_avg_log_error, optimizer='adadelta', metrics='loss')"
   ]
  },
  {
   "cell_type": "code",
   "execution_count": 7,
   "metadata": {},
   "outputs": [
    {
     "name": "stdout",
     "output_type": "stream",
     "text": [
      "[0.2968416]\n",
      "[0.2968416]\n"
     ]
    }
   ],
   "source": [
    "# import numpy as np\n",
    "# a = np.random.random((10, 1))\n",
    "# b = np.random.random((10, 1))\n",
    "# # print(a)\n",
    "# print(b[0])\n",
    "# for v in a:\n",
    "#     for w in b:\n",
    "#         print(w)\n",
    "# #         c = a*b\n",
    "# #         print(c)\n",
    "#         break\n",
    "#     break"
   ]
  },
  {
   "cell_type": "code",
   "execution_count": 15,
   "metadata": {},
   "outputs": [
    {
     "name": "stdout",
     "output_type": "stream",
     "text": [
      "?\n"
     ]
    }
   ],
   "source": [
    "# print(encoded_question.shape[0])"
   ]
  },
  {
   "cell_type": "code",
   "execution_count": 13,
   "metadata": {},
   "outputs": [
    {
     "ename": "TypeError",
     "evalue": "('Keyword argument not understood:', 'axis')",
     "output_type": "error",
     "traceback": [
      "\u001b[1;31m---------------------------------------------------------------------------\u001b[0m",
      "\u001b[1;31mTypeError\u001b[0m                                 Traceback (most recent call last)",
      "\u001b[1;32m<ipython-input-13-9ae99c370d4f>\u001b[0m in \u001b[0;36m<module>\u001b[1;34m()\u001b[0m\n\u001b[0;32m     15\u001b[0m \u001b[1;33m\u001b[0m\u001b[0m\n\u001b[0;32m     16\u001b[0m \u001b[0mkernel\u001b[0m \u001b[1;33m=\u001b[0m \u001b[0mnp\u001b[0m\u001b[1;33m.\u001b[0m\u001b[0mrandom\u001b[0m\u001b[1;33m.\u001b[0m\u001b[0mrandom\u001b[0m\u001b[1;33m(\u001b[0m\u001b[1;33m(\u001b[0m\u001b[1;36m60\u001b[0m\u001b[1;33m,\u001b[0m \u001b[1;33m)\u001b[0m\u001b[1;33m)\u001b[0m\u001b[1;33m\u001b[0m\u001b[0m\n\u001b[1;32m---> 17\u001b[1;33m \u001b[0mconcatenated_vector\u001b[0m \u001b[1;33m=\u001b[0m \u001b[0mconcatenate_and_multiply\u001b[0m\u001b[1;33m(\u001b[0m\u001b[0mv\u001b[0m\u001b[1;33m,\u001b[0m \u001b[0mw\u001b[0m\u001b[1;33m)\u001b[0m\u001b[1;33m\u001b[0m\u001b[0m\n\u001b[0m\u001b[0;32m     18\u001b[0m \u001b[0mresult\u001b[0m \u001b[1;33m=\u001b[0m \u001b[0mdot\u001b[0m\u001b[1;33m(\u001b[0m\u001b[1;33m[\u001b[0m\u001b[0mkernel\u001b[0m\u001b[1;33m,\u001b[0m \u001b[0mconcatenated_vector\u001b[0m\u001b[1;33m]\u001b[0m\u001b[1;33m,\u001b[0m \u001b[0maxes\u001b[0m\u001b[1;33m=\u001b[0m\u001b[1;33m-\u001b[0m\u001b[1;36m1\u001b[0m\u001b[1;33m)\u001b[0m\u001b[1;33m\u001b[0m\u001b[0m\n\u001b[0;32m     19\u001b[0m \u001b[0mprint\u001b[0m\u001b[1;33m(\u001b[0m\u001b[0mresult\u001b[0m\u001b[1;33m.\u001b[0m\u001b[0mshape\u001b[0m\u001b[1;33m)\u001b[0m\u001b[1;33m\u001b[0m\u001b[0m\n",
      "\u001b[1;32m<ipython-input-13-9ae99c370d4f>\u001b[0m in \u001b[0;36mconcatenate_and_multiply\u001b[1;34m(context_vector, query_vector)\u001b[0m\n\u001b[0;32m      4\u001b[0m \u001b[1;33m\u001b[0m\u001b[0m\n\u001b[0;32m      5\u001b[0m \u001b[1;32mdef\u001b[0m \u001b[0mconcatenate_and_multiply\u001b[0m\u001b[1;33m(\u001b[0m\u001b[0mcontext_vector\u001b[0m\u001b[1;33m,\u001b[0m \u001b[0mquery_vector\u001b[0m\u001b[1;33m)\u001b[0m\u001b[1;33m:\u001b[0m\u001b[1;33m\u001b[0m\u001b[0m\n\u001b[1;32m----> 6\u001b[1;33m     \u001b[0melement_wise_mul\u001b[0m \u001b[1;33m=\u001b[0m \u001b[0mmultiply\u001b[0m\u001b[1;33m(\u001b[0m\u001b[1;33m[\u001b[0m\u001b[0mcontext_vector\u001b[0m\u001b[1;33m,\u001b[0m \u001b[0mquery_vector\u001b[0m\u001b[1;33m]\u001b[0m\u001b[1;33m,\u001b[0m \u001b[0maxis\u001b[0m\u001b[1;33m=\u001b[0m\u001b[1;33m-\u001b[0m\u001b[1;36m1\u001b[0m\u001b[1;33m)\u001b[0m\u001b[1;33m\u001b[0m\u001b[0m\n\u001b[0m\u001b[0;32m      7\u001b[0m     \u001b[0mconcatenate_vecs\u001b[0m \u001b[1;33m=\u001b[0m \u001b[0mconcatenate\u001b[0m\u001b[1;33m(\u001b[0m\u001b[1;33m[\u001b[0m\u001b[0mcontext_vector\u001b[0m\u001b[1;33m,\u001b[0m \u001b[0mquery_vector\u001b[0m\u001b[1;33m,\u001b[0m \u001b[0melement_wise_mul\u001b[0m\u001b[1;33m]\u001b[0m\u001b[1;33m,\u001b[0m \u001b[0maxis\u001b[0m\u001b[1;33m=\u001b[0m\u001b[1;33m-\u001b[0m\u001b[1;36m1\u001b[0m\u001b[1;33m)\u001b[0m\u001b[1;33m\u001b[0m\u001b[0m\n\u001b[0;32m      8\u001b[0m     \u001b[1;32mreturn\u001b[0m \u001b[0mconcatenate_vecs\u001b[0m\u001b[1;33m\u001b[0m\u001b[0m\n",
      "\u001b[1;32mC:\\Python36\\lib\\site-packages\\keras\\layers\\merge.py\u001b[0m in \u001b[0;36mmultiply\u001b[1;34m(inputs, **kwargs)\u001b[0m\n\u001b[0;32m    586\u001b[0m         \u001b[0mA\u001b[0m \u001b[0mtensor\u001b[0m\u001b[1;33m,\u001b[0m \u001b[0mthe\u001b[0m \u001b[0melement\u001b[0m\u001b[1;33m-\u001b[0m\u001b[0mwise\u001b[0m \u001b[0mproduct\u001b[0m \u001b[0mof\u001b[0m \u001b[0mthe\u001b[0m \u001b[0minputs\u001b[0m\u001b[1;33m.\u001b[0m\u001b[1;33m\u001b[0m\u001b[0m\n\u001b[0;32m    587\u001b[0m     \"\"\"\n\u001b[1;32m--> 588\u001b[1;33m     \u001b[1;32mreturn\u001b[0m \u001b[0mMultiply\u001b[0m\u001b[1;33m(\u001b[0m\u001b[1;33m**\u001b[0m\u001b[0mkwargs\u001b[0m\u001b[1;33m)\u001b[0m\u001b[1;33m(\u001b[0m\u001b[0minputs\u001b[0m\u001b[1;33m)\u001b[0m\u001b[1;33m\u001b[0m\u001b[0m\n\u001b[0m\u001b[0;32m    589\u001b[0m \u001b[1;33m\u001b[0m\u001b[0m\n\u001b[0;32m    590\u001b[0m \u001b[1;33m\u001b[0m\u001b[0m\n",
      "\u001b[1;32mC:\\Python36\\lib\\site-packages\\keras\\layers\\merge.py\u001b[0m in \u001b[0;36m__init__\u001b[1;34m(self, **kwargs)\u001b[0m\n\u001b[0;32m     19\u001b[0m \u001b[1;33m\u001b[0m\u001b[0m\n\u001b[0;32m     20\u001b[0m     \u001b[1;32mdef\u001b[0m \u001b[0m__init__\u001b[0m\u001b[1;33m(\u001b[0m\u001b[0mself\u001b[0m\u001b[1;33m,\u001b[0m \u001b[1;33m**\u001b[0m\u001b[0mkwargs\u001b[0m\u001b[1;33m)\u001b[0m\u001b[1;33m:\u001b[0m\u001b[1;33m\u001b[0m\u001b[0m\n\u001b[1;32m---> 21\u001b[1;33m         \u001b[0msuper\u001b[0m\u001b[1;33m(\u001b[0m\u001b[0m_Merge\u001b[0m\u001b[1;33m,\u001b[0m \u001b[0mself\u001b[0m\u001b[1;33m)\u001b[0m\u001b[1;33m.\u001b[0m\u001b[0m__init__\u001b[0m\u001b[1;33m(\u001b[0m\u001b[1;33m**\u001b[0m\u001b[0mkwargs\u001b[0m\u001b[1;33m)\u001b[0m\u001b[1;33m\u001b[0m\u001b[0m\n\u001b[0m\u001b[0;32m     22\u001b[0m         \u001b[0mself\u001b[0m\u001b[1;33m.\u001b[0m\u001b[0msupports_masking\u001b[0m \u001b[1;33m=\u001b[0m \u001b[1;32mTrue\u001b[0m\u001b[1;33m\u001b[0m\u001b[0m\n\u001b[0;32m     23\u001b[0m \u001b[1;33m\u001b[0m\u001b[0m\n",
      "\u001b[1;32mC:\\Python36\\lib\\site-packages\\keras\\engine\\base_layer.py\u001b[0m in \u001b[0;36m__init__\u001b[1;34m(self, **kwargs)\u001b[0m\n\u001b[0;32m    126\u001b[0m         \u001b[1;32mfor\u001b[0m \u001b[0mkwarg\u001b[0m \u001b[1;32min\u001b[0m \u001b[0mkwargs\u001b[0m\u001b[1;33m:\u001b[0m\u001b[1;33m\u001b[0m\u001b[0m\n\u001b[0;32m    127\u001b[0m             \u001b[1;32mif\u001b[0m \u001b[0mkwarg\u001b[0m \u001b[1;32mnot\u001b[0m \u001b[1;32min\u001b[0m \u001b[0mallowed_kwargs\u001b[0m\u001b[1;33m:\u001b[0m\u001b[1;33m\u001b[0m\u001b[0m\n\u001b[1;32m--> 128\u001b[1;33m                 \u001b[1;32mraise\u001b[0m \u001b[0mTypeError\u001b[0m\u001b[1;33m(\u001b[0m\u001b[1;34m'Keyword argument not understood:'\u001b[0m\u001b[1;33m,\u001b[0m \u001b[0mkwarg\u001b[0m\u001b[1;33m)\u001b[0m\u001b[1;33m\u001b[0m\u001b[0m\n\u001b[0m\u001b[0;32m    129\u001b[0m         \u001b[0mname\u001b[0m \u001b[1;33m=\u001b[0m \u001b[0mkwargs\u001b[0m\u001b[1;33m.\u001b[0m\u001b[0mget\u001b[0m\u001b[1;33m(\u001b[0m\u001b[1;34m'name'\u001b[0m\u001b[1;33m)\u001b[0m\u001b[1;33m\u001b[0m\u001b[0m\n\u001b[0;32m    130\u001b[0m         \u001b[1;32mif\u001b[0m \u001b[1;32mnot\u001b[0m \u001b[0mname\u001b[0m\u001b[1;33m:\u001b[0m\u001b[1;33m\u001b[0m\u001b[0m\n",
      "\u001b[1;31mTypeError\u001b[0m: ('Keyword argument not understood:', 'axis')"
     ]
    }
   ],
   "source": [
    "# import numpy as np\n",
    "# from keras.layers import concatenate, multiply, dot, Input\n",
    "\n",
    "\n",
    "# def concatenate_and_multiply(context_vector, query_vector):\n",
    "#     element_wise_mul = multiply([context_vector, query_vector], axis=-1)\n",
    "#     concatenate_vecs = concatenate([context_vector, query_vector, element_wise_mul], axis=-1)\n",
    "#     return concatenate_vecs\n",
    "\n",
    "\n",
    "# a = np.random.random((10, 10, 20))\n",
    "# b = np.random.random((10, 15, 20))\n",
    "# v = Input(shape=(10, 20))\n",
    "# w = Input(shape=(15, 20))\n",
    "\n",
    "# kernel = np.random.random((60, ))\n",
    "# concatenated_vector = concatenate_and_multiply(v, w)\n",
    "# result = dot([kernel, concatenated_vector], axes=-1)\n",
    "# print(result.shape)"
   ]
  },
  {
   "cell_type": "code",
   "execution_count": 15,
   "metadata": {},
   "outputs": [
    {
     "name": "stdout",
     "output_type": "stream",
     "text": [
      "(1000, 32, 64, 3)\n",
      "(1000, 3, 32, 64)\n",
      "(1000, 32, 64, 3)\n",
      "(1000, 3, 32, 64)\n"
     ]
    }
   ],
   "source": [
    "# import numpy as np \n",
    "# from keras import backend as K \n",
    "\n",
    "# A = np.random.random((1000,32,64,3))\n",
    "# # B = np.moveaxis( A, 3, 1)\n",
    "# C = np.transpose( A, (0,3,1,2))\n",
    "\n",
    "# print(A.shape)\n",
    "# print(C.shape)\n",
    "\n",
    "# A_t = K.variable(A)\n",
    "# C_t = K.permute_dimensions(A_t, (0,3,1,2))\n",
    "\n",
    "# print(K.eval(A_t).shape)\n",
    "# print(K.eval(C_t).shape)"
   ]
  },
  {
   "cell_type": "code",
   "execution_count": 18,
   "metadata": {},
   "outputs": [
    {
     "name": "stdout",
     "output_type": "stream",
     "text": [
      "[[[0.01755362 0.01663375 0.02235624 ... 0.02136696 0.01309703 0.01326833]\n",
      "  [0.00906878 0.01705004 0.01718567 ... 0.01080498 0.02083486 0.01415615]\n",
      "  [0.0143779  0.02143433 0.01357897 ... 0.02306971 0.01261139 0.0096248 ]\n",
      "  ...\n",
      "  [0.01812428 0.01576477 0.01031787 ... 0.02137829 0.02519673 0.01746046]\n",
      "  [0.01264125 0.01340791 0.01291563 ... 0.02262968 0.02479527 0.01089798]\n",
      "  [0.00961193 0.0136829  0.02013228 ... 0.01696008 0.01828511 0.0235691 ]]\n",
      "\n",
      " [[0.01017614 0.02255894 0.02263117 ... 0.01081336 0.0119454  0.01306454]\n",
      "  [0.01197901 0.01860643 0.01544245 ... 0.01139573 0.0128935  0.01321349]\n",
      "  [0.01209553 0.01136153 0.01061617 ... 0.02003266 0.02338621 0.01658922]\n",
      "  ...\n",
      "  [0.0139485  0.01804001 0.01800262 ... 0.02025799 0.02076103 0.02116529]\n",
      "  [0.01283557 0.01153081 0.01249962 ... 0.01071809 0.01938975 0.02778583]\n",
      "  [0.02163273 0.02468256 0.01600838 ... 0.0103647  0.01140121 0.01118561]]\n",
      "\n",
      " [[0.01971514 0.02521793 0.01121547 ... 0.01514267 0.01687369 0.02049531]\n",
      "  [0.01975791 0.01894189 0.01686079 ... 0.00956604 0.01998707 0.01534122]\n",
      "  [0.01763795 0.01856953 0.01240205 ... 0.01893502 0.01191263 0.01851766]\n",
      "  ...\n",
      "  [0.01314935 0.02545833 0.01629937 ... 0.00969409 0.01932136 0.01972503]\n",
      "  [0.02155819 0.02207841 0.02245368 ... 0.01395963 0.01658143 0.01343398]\n",
      "  [0.00970826 0.02256566 0.01433101 ... 0.01168443 0.02030473 0.01803464]]\n",
      "\n",
      " ...\n",
      "\n",
      " [[0.01190946 0.01188084 0.02075211 ... 0.0120731  0.01168126 0.00948633]\n",
      "  [0.0138459  0.01256715 0.01142676 ... 0.01339668 0.016852   0.01069191]\n",
      "  [0.01731695 0.01938706 0.01262883 ... 0.00963174 0.01163698 0.02280902]\n",
      "  ...\n",
      "  [0.02395976 0.01841492 0.01241715 ... 0.01315106 0.01488957 0.01588286]\n",
      "  [0.01735483 0.00949258 0.01016951 ... 0.01976607 0.01640651 0.01085828]\n",
      "  [0.01473247 0.02335352 0.02233093 ... 0.01939558 0.02002468 0.0135548 ]]\n",
      "\n",
      " [[0.01573412 0.00979245 0.02262672 ... 0.01215566 0.01472769 0.0211642 ]\n",
      "  [0.01616613 0.01969196 0.01908497 ... 0.01522125 0.0144653  0.01555895]\n",
      "  [0.01700611 0.02034956 0.01217666 ... 0.01164762 0.01123917 0.01598074]\n",
      "  ...\n",
      "  [0.0140441  0.02176843 0.01294111 ... 0.01492953 0.020636   0.00856823]\n",
      "  [0.01330597 0.02118555 0.01605042 ... 0.01761658 0.00959762 0.01047863]\n",
      "  [0.01808765 0.01710857 0.01968097 ... 0.02239008 0.01470769 0.01977326]]\n",
      "\n",
      " [[0.01672984 0.01282488 0.0138059  ... 0.01454741 0.01251403 0.01030466]\n",
      "  [0.02095634 0.01223128 0.02262093 ... 0.00998504 0.01433222 0.01182968]\n",
      "  [0.01689967 0.01136467 0.01147666 ... 0.00994638 0.02494138 0.02184754]\n",
      "  ...\n",
      "  [0.01772225 0.01064119 0.0149865  ... 0.01071888 0.010339   0.01475606]\n",
      "  [0.00905765 0.01151497 0.01546362 ... 0.01800382 0.02174054 0.01396593]\n",
      "  [0.01108262 0.02093857 0.02497959 ... 0.01177689 0.01033307 0.01527599]]]\n",
      "(10, 32, 64)\n",
      "[[0.48373944 0.5476052  0.48747057 0.5153664  0.50312084 0.44510892\n",
      "  0.50203323 0.5399169  0.5005321  0.44262207 0.49324942 0.489247\n",
      "  0.51392514 0.47757602 0.5449241  0.4883317  0.5093102  0.47212753\n",
      "  0.5355072  0.46367627 0.4970996  0.4715883  0.53582317 0.50500107\n",
      "  0.4459672  0.48722446 0.45973322 0.46239108 0.54629683 0.5100076\n",
      "  0.505351   0.5325748  0.45681348 0.5220476  0.49162138 0.5183586\n",
      "  0.52788645 0.5048072  0.5341312  0.51899564 0.452749   0.5236515\n",
      "  0.52420676 0.47130525 0.5271867  0.49035186 0.5026939  0.47495803\n",
      "  0.48746052 0.50070727 0.48517242 0.5187453  0.4645993  0.52876836\n",
      "  0.50396943 0.5239252  0.5327458  0.5123057  0.5337534  0.46956918\n",
      "  0.50032896 0.4683606  0.5168717  0.496504  ]\n",
      " [0.49428144 0.5055332  0.473813   0.5292376  0.5091487  0.46468693\n",
      "  0.5004496  0.48336762 0.51517266 0.49032688 0.50821245 0.49098933\n",
      "  0.5077115  0.5201887  0.49420348 0.49363336 0.52648544 0.4832372\n",
      "  0.5106273  0.50467104 0.47437215 0.4818809  0.5208657  0.49866033\n",
      "  0.49417382 0.5072488  0.48418948 0.5129301  0.5061518  0.5235623\n",
      "  0.5257982  0.5185437  0.49685892 0.49081677 0.49024236 0.5069069\n",
      "  0.5366036  0.50956833 0.5047951  0.4901027  0.5375284  0.517351\n",
      "  0.43443188 0.49118277 0.46861783 0.47927603 0.4873036  0.46571782\n",
      "  0.484955   0.49559766 0.5102857  0.48913118 0.5328513  0.5504242\n",
      "  0.49240735 0.4976249  0.4714563  0.4408214  0.47996238 0.5168733\n",
      "  0.54949737 0.49932355 0.50309247 0.52403665]\n",
      " [0.48836666 0.57961243 0.4911963  0.50830024 0.50565    0.47776425\n",
      "  0.5035754  0.5168659  0.53507227 0.47754726 0.5480087  0.54076844\n",
      "  0.51530063 0.4704094  0.5346936  0.47612983 0.5112265  0.46237576\n",
      "  0.49372798 0.5476146  0.5120096  0.52588624 0.47596648 0.518408\n",
      "  0.52337253 0.5459792  0.47979507 0.49892408 0.5107454  0.533357\n",
      "  0.5122723  0.49279818 0.4747241  0.46891147 0.53670764 0.4795989\n",
      "  0.43480656 0.45560852 0.49552143 0.47058162 0.48399752 0.5174842\n",
      "  0.49926695 0.48406196 0.49104163 0.51599413 0.5053619  0.4998982\n",
      "  0.46442905 0.47310328 0.518142   0.46344295 0.50315416 0.48696756\n",
      "  0.46968237 0.51437205 0.53078276 0.51823246 0.5018586  0.4592707\n",
      "  0.5168391  0.45894954 0.5287748  0.46471173]\n",
      " [0.4955923  0.49196687 0.4923794  0.516634   0.5510124  0.47869667\n",
      "  0.48510164 0.5240209  0.49430272 0.5148591  0.51260453 0.5223744\n",
      "  0.50145    0.45356107 0.49443614 0.4411716  0.5055436  0.474435\n",
      "  0.4939776  0.48075697 0.48749086 0.49465394 0.5130721  0.4951528\n",
      "  0.5114357  0.5378915  0.5355193  0.5128297  0.5173243  0.5013206\n",
      "  0.48198026 0.5292986  0.4893697  0.5079788  0.5028021  0.49551243\n",
      "  0.5116393  0.5016015  0.49678284 0.49109212 0.49716803 0.49913013\n",
      "  0.4876896  0.49066854 0.51813567 0.49809137 0.50497913 0.5120821\n",
      "  0.5091408  0.4752591  0.45593816 0.5112776  0.51888704 0.5148793\n",
      "  0.49477085 0.49253568 0.4952788  0.4772892  0.49032423 0.5056962\n",
      "  0.5094995  0.5138564  0.49465117 0.4931458 ]\n",
      " [0.48375455 0.47191766 0.4813463  0.47045758 0.4928287  0.5042258\n",
      "  0.49800256 0.5073024  0.52462965 0.5140762  0.52556753 0.5045281\n",
      "  0.53448576 0.48838645 0.50607485 0.56211716 0.46236643 0.5422634\n",
      "  0.4997894  0.4992246  0.49315462 0.44840783 0.5504107  0.5277148\n",
      "  0.5020385  0.5234764  0.5185452  0.47908705 0.48835438 0.47890532\n",
      "  0.4769202  0.5063362  0.5063203  0.5075943  0.5331242  0.50588906\n",
      "  0.51314294 0.5557069  0.5325132  0.52215123 0.5115882  0.4779437\n",
      "  0.506758   0.51995593 0.49771428 0.50213146 0.51515967 0.4938258\n",
      "  0.46932727 0.4732526  0.49585977 0.5052946  0.5311288  0.44429862\n",
      "  0.4794319  0.50543135 0.4816079  0.46394393 0.4909696  0.44869295\n",
      "  0.4783697  0.5053018  0.5033244  0.4555486 ]\n",
      " [0.48205167 0.47131452 0.49251616 0.4987868  0.50539917 0.5360578\n",
      "  0.5223541  0.5164508  0.5214279  0.5012863  0.5154725  0.5279521\n",
      "  0.50663805 0.49790034 0.49283072 0.5528286  0.4938728  0.48602995\n",
      "  0.47066215 0.50092113 0.48232132 0.50099474 0.5048133  0.46783847\n",
      "  0.5110428  0.5220178  0.5174375  0.5101931  0.51354086 0.5100093\n",
      "  0.5048299  0.48016408 0.5126104  0.50435674 0.49578878 0.5082413\n",
      "  0.5130544  0.5028149  0.4838731  0.4685555  0.48703635 0.5000032\n",
      "  0.49570855 0.4565155  0.4904437  0.500458   0.53882915 0.48461398\n",
      "  0.52645683 0.49732164 0.46292427 0.4911275  0.5329475  0.49459687\n",
      "  0.4696417  0.44573444 0.47887284 0.5116272  0.50962865 0.5393573\n",
      "  0.5024575  0.49632493 0.49673074 0.48338926]\n",
      " [0.47691283 0.47830555 0.49794137 0.51081115 0.48270458 0.4852047\n",
      "  0.47342926 0.53151727 0.47464347 0.4884667  0.5280205  0.5067588\n",
      "  0.48044127 0.45012724 0.47562808 0.5027091  0.49007082 0.45389158\n",
      "  0.5242518  0.5079943  0.4910949  0.49695367 0.5405728  0.49893767\n",
      "  0.48819673 0.47309166 0.5004588  0.5021717  0.52654475 0.50116545\n",
      "  0.5065517  0.5214456  0.51570886 0.49742872 0.51158315 0.55622065\n",
      "  0.5255631  0.49872217 0.4917335  0.49727008 0.55981725 0.51954263\n",
      "  0.54256976 0.46015027 0.48928195 0.46843493 0.51720256 0.5347571\n",
      "  0.5498447  0.5082694  0.5314047  0.4911034  0.5206015  0.48737064\n",
      "  0.5164556  0.49378532 0.4464742  0.49123806 0.5283368  0.4867163\n",
      "  0.46923685 0.48387894 0.48921284 0.45306796]\n",
      " [0.47644585 0.47616258 0.48012596 0.51227665 0.4563451  0.5059195\n",
      "  0.5051888  0.5173422  0.49764818 0.4674793  0.4756534  0.5014411\n",
      "  0.53535825 0.48663288 0.49914053 0.49365622 0.48853105 0.4786073\n",
      "  0.5229831  0.4900861  0.50743866 0.50468    0.47803992 0.4975302\n",
      "  0.5047201  0.55133516 0.5887687  0.5245951  0.48806617 0.47020534\n",
      "  0.5302464  0.5103888  0.5141933  0.45699403 0.5476076  0.5078556\n",
      "  0.55732316 0.4794378  0.45593932 0.47422087 0.46937153 0.51990736\n",
      "  0.49760962 0.5024917  0.52183795 0.47891036 0.5276596  0.48430678\n",
      "  0.47665548 0.52294725 0.52343804 0.5228514  0.50227684 0.5147762\n",
      "  0.45023468 0.48760295 0.4732411  0.4924348  0.5257456  0.5176931\n",
      "  0.45967153 0.50252825 0.4919561  0.5172419 ]\n",
      " [0.5131624  0.4735207  0.52824926 0.47956902 0.49115142 0.50262135\n",
      "  0.56351537 0.5178858  0.47174028 0.512044   0.51101345 0.54841906\n",
      "  0.5298253  0.4802154  0.46583903 0.5033227  0.53474367 0.49534836\n",
      "  0.5032897  0.48833072 0.51742595 0.4965661  0.47260517 0.4639237\n",
      "  0.46282774 0.4554998  0.527159   0.5171214  0.52318823 0.53058714\n",
      "  0.4553509  0.50456923 0.43660396 0.49498293 0.47082567 0.51241946\n",
      "  0.4738792  0.47379196 0.49514732 0.5299363  0.5454904  0.51294094\n",
      "  0.5173778  0.5004588  0.48964942 0.47424087 0.50974035 0.46730152\n",
      "  0.46688345 0.4810489  0.5319988  0.51271856 0.4837856  0.50297713\n",
      "  0.47787356 0.5305414  0.53869486 0.514891   0.5457705  0.5094104\n",
      "  0.45268488 0.4895478  0.49290198 0.5228529 ]\n",
      " [0.4981556  0.50174814 0.5116673  0.51043457 0.48664105 0.47017577\n",
      "  0.51413405 0.4765318  0.55012715 0.47683755 0.5108082  0.48314518\n",
      "  0.52480274 0.5253013  0.48305345 0.4750915  0.4662942  0.4770608\n",
      "  0.4923384  0.56359476 0.55949324 0.5026245  0.51419306 0.52512044\n",
      "  0.54403156 0.46698445 0.5023496  0.49081835 0.44413367 0.5012809\n",
      "  0.5480774  0.48187175 0.47998807 0.510897   0.53000647 0.53151876\n",
      "  0.48237965 0.5183977  0.5100985  0.5130354  0.5231961  0.551469\n",
      "  0.47719708 0.495391   0.4808032  0.48232833 0.4814741  0.5230428\n",
      "  0.44520828 0.49798322 0.5554137  0.49828434 0.53444535 0.47253102\n",
      "  0.48103565 0.47442967 0.501434   0.5528964  0.46063545 0.4682195\n",
      "  0.47354317 0.4722226  0.45360267 0.4879691 ]]\n",
      "[[1.0000001  1.         0.9999999  1.0000001  1.         0.99999994\n",
      "  1.         1.         1.         1.         1.         1.\n",
      "  1.         1.         1.         1.         1.         1.\n",
      "  1.         0.99999994 1.         1.         1.         1.\n",
      "  1.         1.         0.9999999  1.         1.         1.\n",
      "  1.         0.9999999 ]\n",
      " [1.         1.         0.9999999  1.         1.         1.\n",
      "  0.99999994 0.99999994 1.         0.99999994 1.         0.99999994\n",
      "  1.         1.         1.         1.         0.99999994 0.99999994\n",
      "  1.         0.99999994 1.         0.99999994 1.         1.\n",
      "  1.         0.9999999  0.99999994 1.0000001  0.99999994 0.99999994\n",
      "  0.99999994 1.        ]\n",
      " [0.99999994 1.         1.         1.         1.         0.99999994\n",
      "  1.         1.         1.         1.         1.         1.\n",
      "  1.         1.         1.         1.         1.         1.\n",
      "  1.0000001  1.0000001  1.         0.99999994 1.         0.99999994\n",
      "  1.         1.         1.         0.99999994 1.         1.\n",
      "  1.         1.        ]\n",
      " [0.9999999  1.         1.         1.         1.         1.\n",
      "  1.         1.         1.         1.0000001  0.99999994 1.\n",
      "  1.         1.         1.         0.99999994 1.         1.\n",
      "  1.         0.9999999  1.         1.         1.         1.\n",
      "  1.         0.99999994 1.         1.0000001  0.99999994 1.\n",
      "  1.         1.        ]\n",
      " [1.         0.9999999  0.99999994 1.         1.         1.\n",
      "  1.         1.         0.9999999  0.9999999  0.99999994 0.99999994\n",
      "  0.9999999  1.         0.99999994 0.99999994 0.99999994 1.\n",
      "  1.0000001  1.         1.         0.99999994 1.         1.\n",
      "  1.         1.         1.         1.         1.         0.99999994\n",
      "  1.         1.        ]\n",
      " [1.         1.         1.         0.99999994 1.         0.99999994\n",
      "  1.         0.99999994 1.         1.         0.99999994 1.\n",
      "  1.         1.         1.         0.9999999  1.         0.99999994\n",
      "  1.         1.         1.         0.99999994 0.9999999  1.\n",
      "  1.         1.         0.99999994 1.         0.9999999  1.\n",
      "  1.         0.99999994]\n",
      " [1.         0.99999994 1.         0.9999999  0.99999994 1.\n",
      "  1.         1.         1.         1.         1.         0.9999999\n",
      "  1.         1.         1.         1.         1.         0.99999994\n",
      "  1.         1.         1.         1.         1.         1.\n",
      "  1.         0.99999994 1.         0.99999994 1.         1.\n",
      "  1.         1.        ]\n",
      " [1.         1.         1.         1.         1.         1.\n",
      "  1.         0.99999994 0.99999994 1.         1.         1.\n",
      "  1.         1.         1.         0.9999999  1.         0.99999994\n",
      "  0.99999994 1.         1.         1.         1.         1.\n",
      "  1.0000001  1.         0.9999999  1.         1.         1.\n",
      "  1.         1.        ]\n",
      " [1.         1.         1.         1.0000001  1.         1.\n",
      "  1.         1.         1.         1.         1.         0.99999994\n",
      "  0.9999999  1.         1.         0.9999999  1.         1.\n",
      "  1.0000001  1.         1.         0.99999994 1.         1.\n",
      "  1.         1.         1.         1.         1.         0.99999994\n",
      "  1.         0.99999994]\n",
      " [1.         1.         1.         0.99999994 1.         0.9999999\n",
      "  1.         1.         1.         0.99999994 0.99999994 0.9999999\n",
      "  0.99999994 1.0000001  0.99999994 1.         1.         1.\n",
      "  1.         1.         1.         1.         1.         1.0000001\n",
      "  1.         1.         1.         1.         1.         1.\n",
      "  1.         1.        ]]\n",
      "(10, 32)\n",
      "(10, 64)\n"
     ]
    }
   ],
   "source": [
    "# import numpy as np \n",
    "# from keras import backend as K \n",
    "# from keras.models import Input, Model\n",
    "# from keras.layers.advanced_activations import Softmax\n",
    "\n",
    "# A = np.random.random((10,32,64)).astype('float32')\n",
    "\n",
    "# i = Input(shape=(32,64), dtype='float32')\n",
    "# o = Softmax(axis=-1)(i)\n",
    "# model = Model([i], [o])\n",
    "# y = model.predict([A])\n",
    "# print(y)\n",
    "# print(y.shape)\n",
    "# print(np.sum(y, axis=-2))\n",
    "# print(np.sum(y, axis=-1))\n",
    "# print(np.sum(y, axis=-1).shape)\n",
    "# print(np.sum(y, axis=-2).shape)"
   ]
  },
  {
   "cell_type": "code",
   "execution_count": 1,
   "metadata": {},
   "outputs": [
    {
     "name": "stderr",
     "output_type": "stream",
     "text": [
      "Using TensorFlow backend.\n"
     ]
    },
    {
     "name": "stdout",
     "output_type": "stream",
     "text": [
      "(32, 6)\n",
      "(32, 6)\n",
      "(6,)\n",
      "(6,)\n",
      "[[8.26202855e-02 2.48085767e-01 4.91526842e-01 4.14612472e-01\n",
      "  2.16397598e-01 1.18824616e-02]\n",
      " [7.85274327e-01 1.05352119e-01 1.53321475e-01 2.54257977e-01\n",
      "  3.75332609e-02 1.93418920e-01]\n",
      " [1.09720081e-01 6.26341626e-02 2.47155011e-01 2.26202533e-01\n",
      "  8.40807915e-01 5.06630801e-02]\n",
      " [1.19444422e-01 4.28182095e-01 5.32869473e-02 2.38928586e-01\n",
      "  3.67912978e-01 5.95536381e-02]\n",
      " [3.19443420e-02 6.76043797e-03 3.98072034e-01 7.46512175e-01\n",
      "  5.79592995e-02 1.09106572e-02]\n",
      " [5.66403449e-01 1.68606322e-02 1.51503190e-01 3.93227518e-01\n",
      "  1.23507135e-01 6.04654029e-02]\n",
      " [3.47213089e-01 3.21010321e-01 3.10006857e-01 6.00156784e-01\n",
      "  2.45542735e-01 3.49635690e-01]\n",
      " [1.42693043e-01 1.37339413e-01 5.17725110e-01 7.78867900e-02\n",
      "  3.12403470e-01 1.28312528e-01]\n",
      " [1.92067891e-01 3.35138142e-02 1.32552654e-01 6.38185561e-01\n",
      "  5.60742974e-01 1.09518364e-01]\n",
      " [6.51950091e-02 2.54402570e-02 1.95229903e-01 4.77759764e-02\n",
      "  1.44653022e-01 2.04867393e-01]\n",
      " [2.17414767e-01 1.21842697e-02 3.76695275e-01 1.63664103e-01\n",
      "  9.96286720e-02 2.16975644e-01]\n",
      " [9.85112637e-02 1.98725060e-01 2.10945681e-02 4.48954195e-01\n",
      "  1.83178395e-01 2.56721407e-01]\n",
      " [1.64138019e-01 1.35316476e-01 1.69609413e-01 5.75813055e-01\n",
      "  1.88797966e-01 2.66199201e-01]\n",
      " [2.07638353e-01 1.72444761e-01 8.86794999e-02 9.86438245e-02\n",
      "  3.99468392e-02 1.85544640e-01]\n",
      " [5.06727457e-01 1.26799539e-01 4.77317299e-05 1.67047277e-01\n",
      "  2.02403963e-01 1.39511153e-02]\n",
      " [2.22209901e-01 1.31093711e-01 1.37859702e-01 9.82748158e-03\n",
      "  5.05365133e-01 6.36131912e-02]\n",
      " [1.74140215e-01 1.53137177e-01 5.05962491e-01 4.06577885e-01\n",
      "  3.07385206e-01 1.64901093e-01]\n",
      " [4.59993035e-01 3.78217906e-01 3.69322777e-01 3.56422305e-01\n",
      "  8.05475563e-02 7.39130795e-01]\n",
      " [3.07759792e-01 1.67002842e-01 1.25351980e-01 6.06671393e-01\n",
      "  2.85295129e-01 3.00958753e-01]\n",
      " [1.87475588e-02 3.30051519e-02 5.53713858e-01 1.20303661e-01\n",
      "  1.42511740e-01 5.90978488e-02]\n",
      " [9.27739404e-03 3.15791279e-01 9.00680497e-02 4.05352533e-01\n",
      "  2.46801987e-01 1.94018763e-02]\n",
      " [9.06534940e-02 7.52503276e-02 4.02912945e-01 2.10901439e-01\n",
      "  3.42508964e-02 1.64574070e-03]\n",
      " [2.69522995e-01 2.64275402e-01 6.85385987e-02 3.40079486e-01\n",
      "  1.33400792e-02 4.15852189e-01]\n",
      " [2.69246995e-01 1.91167459e-01 1.51001483e-01 3.66447210e-01\n",
      "  1.03483886e-01 2.36740083e-01]\n",
      " [2.50190347e-01 9.61198434e-02 2.55625159e-01 2.17261165e-02\n",
      "  3.71723145e-01 2.14646325e-01]\n",
      " [7.86168873e-02 1.39099389e-01 6.96253538e-01 1.20717697e-02\n",
      "  1.10299950e-02 3.45540047e-01]\n",
      " [2.09664717e-01 5.03755748e-01 5.50329639e-03 7.25822210e-01\n",
      "  1.39697179e-01 2.08149422e-02]\n",
      " [7.84481823e-01 1.22006252e-01 7.58060738e-02 5.60017023e-03\n",
      "  1.87715381e-01 3.16813171e-01]\n",
      " [5.82118854e-02 2.96494484e-01 3.71086657e-01 3.04591954e-01\n",
      "  2.43232325e-01 2.01959208e-01]\n",
      " [2.48121805e-02 4.53732312e-01 6.63477242e-01 1.09939992e-01\n",
      "  5.55650353e-01 2.42732197e-01]\n",
      " [3.95378888e-01 4.00367677e-01 1.25919327e-01 1.11721873e-01\n",
      "  7.76312947e-01 2.37234503e-01]\n",
      " [2.70778090e-01 2.96569735e-01 5.94312012e-01 3.22057605e-02\n",
      "  1.93654746e-01 4.12076443e-01]]\n"
     ]
    }
   ],
   "source": [
    "# import numpy as np \n",
    "# from keras import backend as K \n",
    "\n",
    "# A = np.random.random((32,6))\n",
    "# # B = np.moveaxis( A, 3, 1)\n",
    "# # C = np.transpose( A, (0,3,1,2))\n",
    "# B = np.random.random((32, 6))\n",
    "\n",
    "# print(A.shape)\n",
    "# print(B.shape)\n",
    "\n",
    "# def mul(x):\n",
    "#     A, B = x\n",
    "#     print(K.int_shape(A))\n",
    "#     print(K.int_shape(B))\n",
    "#     return A*B\n",
    "\n",
    "# A_t = K.variable(A)\n",
    "# B_t = K.variable(B)\n",
    "# # C_t = K.permute_dimensions(A_t, (0,3,1,2))\n",
    "\n",
    "# C = K.map_fn(mul, (A_t, B_t), dtype='float32')\n",
    "\n",
    "# y = K.eval(C)"
   ]
  },
  {
   "cell_type": "code",
   "execution_count": null,
   "metadata": {},
   "outputs": [],
   "source": []
  }
 ],
 "metadata": {
  "kernelspec": {
   "display_name": "Python 3",
   "language": "python",
   "name": "python3"
  },
  "language_info": {
   "codemirror_mode": {
    "name": "ipython",
    "version": 3
   },
   "file_extension": ".py",
   "mimetype": "text/x-python",
   "name": "python",
   "nbconvert_exporter": "python",
   "pygments_lexer": "ipython3",
   "version": "3.6.6"
  }
 },
 "nbformat": 4,
 "nbformat_minor": 2
}
