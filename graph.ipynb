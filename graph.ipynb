{
 "cells": [
  {
   "cell_type": "code",
   "execution_count": 1,
   "metadata": {},
   "outputs": [],
   "source": [
    "# from pymagnitude import Magnitude"
   ]
  },
  {
   "cell_type": "code",
   "execution_count": 2,
   "metadata": {},
   "outputs": [],
   "source": [
    "# glove = Magnitude('data/magnitude/glove.6B.300d.magnitude')"
   ]
  },
  {
   "cell_type": "code",
   "execution_count": 3,
   "metadata": {},
   "outputs": [],
   "source": [
    "# fasttext = Magnitude('data/magnitude/wiki-news-300d-1M-subword.magnitude', case_insensitive=True)"
   ]
  },
  {
   "cell_type": "code",
   "execution_count": 4,
   "metadata": {},
   "outputs": [
    {
     "name": "stdout",
     "output_type": "stream",
     "text": [
      "300\n",
      "300\n"
     ]
    }
   ],
   "source": [
    "# print(glove.dim)\n",
    "# print(fasttext.dim)"
   ]
  },
  {
   "cell_type": "code",
   "execution_count": 6,
   "metadata": {
    "scrolled": true
   },
   "outputs": [
    {
     "name": "stdout",
     "output_type": "stream",
     "text": [
      "('the', array([ 8.986000e-03,  4.114330e-02, -1.435200e-03, -8.849740e-02,\n",
      "       -6.878300e-03,  4.563060e-02, -5.565290e-02,  4.153510e-02,\n",
      "       -2.602770e-02, -3.167679e-01, -5.035510e-02,  6.259700e-03,\n",
      "        1.092770e-02, -8.356000e-03, -4.182700e-03,  4.337830e-02,\n",
      "       -1.449980e-02, -1.293430e-02, -2.749640e-02,  7.493200e-03,\n",
      "       -3.657510e-02,  5.785510e-02,  7.585790e-02,  3.452160e-02,\n",
      "       -3.347170e-02, -4.087310e-02,  4.558040e-02, -1.229030e-02,\n",
      "       -8.167300e-02, -2.250550e-02,  1.809430e-02,  3.338100e-02,\n",
      "       -6.383030e-02,  9.478530e-02, -1.331591e-01, -1.784500e-02,\n",
      "        4.775160e-02, -3.472230e-02,  1.889610e-02,  1.604160e-02,\n",
      "        2.952680e-02, -5.264220e-02, -7.514200e-03,  1.050933e-01,\n",
      "        1.037114e-01,  5.617210e-02, -1.418800e-03,  9.240800e-03,\n",
      "       -7.866600e-02, -5.164400e-03,  3.458330e-02,  2.118500e-03,\n",
      "       -2.115840e-02, -5.094190e-02,  1.427990e-02,  5.063500e-02,\n",
      "       -2.910410e-02,  6.682170e-02,  4.971250e-02,  2.310380e-02,\n",
      "       -7.167000e-03, -1.381730e-02,  8.472230e-02, -7.867400e-03,\n",
      "        3.170000e-03, -8.615440e-02,  3.318990e-02,  8.925400e-03,\n",
      "        1.131720e-02,  8.009200e-03,  1.041186e-01,  1.013144e-01,\n",
      "        2.192650e-02, -9.324700e-03, -7.022240e-02,  3.609840e-02,\n",
      "        1.790270e-02, -2.147880e-02, -8.122330e-02,  2.700430e-02,\n",
      "       -7.592160e-02, -1.311330e-02,  2.352260e-02,  3.224420e-02,\n",
      "        1.450750e-02, -2.997100e-03, -3.763270e-02,  3.790100e-02,\n",
      "        1.026630e-02,  4.857760e-02, -6.725020e-02, -2.053110e-02,\n",
      "       -6.695490e-02, -3.671600e-02, -3.867680e-02,  2.345700e-02,\n",
      "       -5.637090e-02,  4.507100e-03, -2.242250e-02, -6.903160e-02,\n",
      "        1.202460e-02,  6.925550e-02,  5.608500e-03,  1.409000e-03,\n",
      "        9.550000e-04, -2.904240e-02, -2.376390e-02,  3.732010e-02,\n",
      "        2.349370e-02,  8.589000e-02,  4.853320e-02,  2.080710e-02,\n",
      "       -3.419160e-02,  7.467300e-03,  1.573510e-02,  2.830700e-02,\n",
      "        1.228740e-02,  1.183700e-02, -1.458470e-02, -7.280660e-02,\n",
      "        3.059000e-03, -5.855950e-02,  5.476130e-02, -8.108400e-03,\n",
      "       -7.857900e-03, -2.946890e-02,  1.447100e-02,  3.006330e-02,\n",
      "        2.013550e-02,  6.058790e-02,  3.726600e-02,  3.749760e-02,\n",
      "        2.930680e-02, -1.967040e-02, -3.625500e-03,  4.012620e-02,\n",
      "        2.579610e-02,  3.674300e-02, -4.932650e-02,  5.867140e-02,\n",
      "       -3.659200e-03,  3.888330e-02, -8.127150e-02, -1.450500e-03,\n",
      "       -5.399510e-02, -3.727570e-02,  8.917300e-03,  3.854370e-02,\n",
      "       -5.829900e-02,  4.966810e-02,  1.314452e-01, -3.745900e-02,\n",
      "        4.628870e-02,  4.341110e-02,  1.258811e-01, -2.617250e-02,\n",
      "       -3.354890e-02, -9.304200e-03, -2.288960e-02,  4.166000e-04,\n",
      "       -3.768300e-03,  2.305940e-02,  3.733740e-02, -7.878180e-02,\n",
      "       -1.601230e-02,  3.208790e-02, -2.045970e-02,  6.921110e-02,\n",
      "        3.265910e-02,  1.400970e-02, -4.786930e-02, -1.934610e-02,\n",
      "       -1.013067e-01, -3.424750e-02, -7.072800e-02,  5.052690e-02,\n",
      "       -2.330800e-03,  1.605550e-02, -4.154860e-02,  7.921610e-02,\n",
      "        5.623190e-02,  5.957660e-02,  1.522060e-02,  6.215890e-02,\n",
      "       -7.917400e-03, -2.117190e-02, -1.776370e-02, -2.381400e-02,\n",
      "       -3.168260e-02,  6.828660e-02, -1.597520e-02,  6.401940e-02,\n",
      "       -4.774390e-02, -9.443000e-03,  3.038950e-02,  3.664650e-02,\n",
      "       -5.141900e-03,  1.221970e-02, -2.059900e-03,  6.579110e-02,\n",
      "        2.722432e-01,  2.589460e-02,  5.440810e-02, -5.006370e-02,\n",
      "        1.066640e-02, -1.011790e-02, -4.977230e-02,  3.691500e-03,\n",
      "       -4.262200e-03,  6.197750e-02,  1.328170e-02,  9.882860e-02,\n",
      "        3.180220e-02, -3.897400e-02,  5.641720e-02,  1.902480e-02,\n",
      "        2.537000e-03, -2.055820e-02,  2.607400e-02, -8.749000e-03,\n",
      "        3.994480e-02, -9.345940e-02, -8.628180e-02,  6.428000e-04,\n",
      "        5.648000e-04, -2.118150e-02, -4.501680e-02,  4.331260e-02,\n",
      "       -2.027060e-02,  2.381400e-02,  2.118730e-02,  9.455800e-03,\n",
      "       -4.855250e-02,  7.781490e-02,  6.816310e-02,  3.599610e-02,\n",
      "       -4.559000e-03, -2.457640e-02,  2.214650e-02,  5.280240e-02,\n",
      "       -4.220100e-02,  3.048200e-03,  1.577837e-01, -4.591800e-03,\n",
      "       -1.649536e-01, -3.127150e-02,  3.488630e-02,  5.406700e-03,\n",
      "       -2.767590e-02,  2.536000e-04, -1.770470e-02, -1.731270e-02,\n",
      "        2.143240e-02, -3.223650e-02,  1.319660e-02, -1.686570e-02,\n",
      "       -7.679200e-03,  2.737500e-03,  4.089050e-02,  5.515690e-02,\n",
      "       -5.557770e-02, -1.138610e-02, -6.260100e-03, -9.073000e-04,\n",
      "       -3.291000e-02, -6.704900e-03, -2.217360e-02,  1.449280e-02,\n",
      "        1.920830e-02,  9.299200e-03, -1.423840e-02, -8.070600e-02,\n",
      "        7.965000e-04,  8.571820e-02, -3.099940e-02,  2.758720e-02,\n",
      "       -4.367162e-01, -5.277900e-03,  1.569287e-01,  1.494134e-01,\n",
      "       -4.948280e-02, -2.234150e-02, -2.312500e-02, -4.123020e-02,\n",
      "        5.486700e-03,  5.261320e-02,  5.988000e-03,  1.867870e-02,\n",
      "        1.307900e-03,  2.717800e-02, -2.521300e-03, -5.729340e-02,\n",
      "       -1.542310e-02,  3.763460e-02,  6.088900e-03,  5.501610e-02,\n",
      "       -1.687980e-02,  1.748800e-03, -4.050840e-02,  1.040510e-02],\n",
      "      dtype=float32))\n"
     ]
    }
   ],
   "source": [
    "# print(glove[0])"
   ]
  },
  {
   "cell_type": "code",
   "execution_count": 18,
   "metadata": {},
   "outputs": [
    {
     "data": {
      "text/plain": [
       "array([[-0.02280903,  0.02282331, -0.04478139, ..., -0.02167702,\n",
       "         0.00340514,  0.06512546],\n",
       "       [-0.0421094 , -0.0626592 ,  0.0066932 , ...,  0.0204491 ,\n",
       "        -0.0954911 , -0.0082391 ],\n",
       "       [-0.0482601 ,  0.015276  , -0.0157005 , ...,  0.0096996 ,\n",
       "        -0.0371193 ,  0.0480815 ],\n",
       "       [ 0.0080143 , -0.0090586 ,  0.0245809 , ...,  0.0844503 ,\n",
       "         0.0224759 , -0.0207853 ]], dtype=float32)"
      ]
     },
     "execution_count": 18,
     "metadata": {},
     "output_type": "execute_result"
    }
   ],
   "source": [
    "# glove.query([\"I\", \"read\", \"a\", \"book\"])"
   ]
  },
  {
   "cell_type": "code",
   "execution_count": 19,
   "metadata": {},
   "outputs": [
    {
     "data": {
      "text/plain": [
       "array([[[-0.0413727,  0.0290336,  0.0096557, ..., -0.0233056,\n",
       "          0.017242 , -0.0187049],\n",
       "        [-0.0613015, -0.0976044,  0.0546563, ..., -0.0688883,\n",
       "         -0.0051112, -0.0399671],\n",
       "        [-0.0041607, -0.050058 ,  0.0164242, ..., -0.0044358,\n",
       "         -0.0351897,  0.0133512],\n",
       "        [-0.0275018, -0.0647214,  0.0377438, ..., -0.0004722,\n",
       "         -0.0205171, -0.0230596]],\n",
       "\n",
       "       [[-0.0413727,  0.0290336,  0.0096557, ..., -0.0233056,\n",
       "          0.017242 , -0.0187049],\n",
       "        [-0.0613015, -0.0976044,  0.0546563, ..., -0.0688883,\n",
       "         -0.0051112, -0.0399671],\n",
       "        [-0.0041607, -0.050058 ,  0.0164242, ..., -0.0044358,\n",
       "         -0.0351897,  0.0133512],\n",
       "        [ 0.0170235, -0.0525393,  0.1137774, ..., -0.0401786,\n",
       "         -0.0365987, -0.0305128]]], dtype=float32)"
      ]
     },
     "execution_count": 19,
     "metadata": {},
     "output_type": "execute_result"
    }
   ],
   "source": [
    "# fasttext.query([[\"I\", \"read\", \"a\", \"book\"], [\"I\", \"read\", \"a\", \"magazine\"]])"
   ]
  },
  {
   "cell_type": "code",
   "execution_count": 4,
   "metadata": {},
   "outputs": [],
   "source": [
    "# vectors = Magnitude(glove, fasttext)"
   ]
  },
  {
   "cell_type": "code",
   "execution_count": 5,
   "metadata": {},
   "outputs": [
    {
     "data": {
      "text/plain": [
       "array([[-0.02280903,  0.02282331, -0.04478139, ..., -0.0233056 ,\n",
       "         0.017242  , -0.0187049 ],\n",
       "       [-0.0421094 , -0.0626592 ,  0.0066932 , ..., -0.0688883 ,\n",
       "        -0.0051112 , -0.0399671 ],\n",
       "       [-0.0482601 ,  0.015276  , -0.0157005 , ..., -0.0044358 ,\n",
       "        -0.0351897 ,  0.0133512 ],\n",
       "       [ 0.0080143 , -0.0090586 ,  0.0245809 , ..., -0.0004722 ,\n",
       "        -0.0205171 , -0.0230596 ]], dtype=float32)"
      ]
     },
     "execution_count": 5,
     "metadata": {},
     "output_type": "execute_result"
    }
   ],
   "source": [
    "# vectors.query([\"I\", \"read\", \"a\", \"book\"])"
   ]
  },
  {
   "cell_type": "code",
   "execution_count": 13,
   "metadata": {},
   "outputs": [
    {
     "data": {
      "text/plain": [
       "array([[[-0.02280903,  0.02282331, -0.04478139, ..., -0.0233056 ,\n",
       "          0.017242  , -0.0187049 ],\n",
       "        [-0.0421094 , -0.0626592 ,  0.0066932 , ..., -0.0688883 ,\n",
       "         -0.0051112 , -0.0399671 ],\n",
       "        [-0.0482601 ,  0.015276  , -0.0157005 , ..., -0.0044358 ,\n",
       "         -0.0351897 ,  0.0133512 ],\n",
       "        [ 0.0080143 , -0.0090586 ,  0.0245809 , ..., -0.0004722 ,\n",
       "         -0.0205171 , -0.0230596 ]],\n",
       "\n",
       "       [[-0.02280903,  0.02282331, -0.04478139, ..., -0.0233056 ,\n",
       "          0.017242  , -0.0187049 ],\n",
       "        [-0.0421094 , -0.0626592 ,  0.0066932 , ..., -0.0688883 ,\n",
       "         -0.0051112 , -0.0399671 ],\n",
       "        [-0.0482601 ,  0.015276  , -0.0157005 , ..., -0.0044358 ,\n",
       "         -0.0351897 ,  0.0133512 ],\n",
       "        [ 0.0623805 ,  0.0460008 ,  0.066375  , ..., -0.0401786 ,\n",
       "         -0.0365987 , -0.0305128 ]]], dtype=float32)"
      ]
     },
     "execution_count": 13,
     "metadata": {},
     "output_type": "execute_result"
    }
   ],
   "source": [
    "# vectors.query([[\"I\", \"read\", \"a\", \"book\"], [\"I\", \"read\", \"a\", \"magazine\"]])"
   ]
  },
  {
   "cell_type": "code",
   "execution_count": 5,
   "metadata": {},
   "outputs": [
    {
     "name": "stdout",
     "output_type": "stream",
     "text": [
      "600\n"
     ]
    }
   ],
   "source": [
    "# print(vectors.dim)\n",
    "# emdim = vectors.dim"
   ]
  },
  {
   "cell_type": "code",
   "execution_count": 1,
   "metadata": {},
   "outputs": [],
   "source": [
    "emdim = 600"
   ]
  },
  {
   "cell_type": "code",
   "execution_count": 2,
   "metadata": {},
   "outputs": [
    {
     "name": "stderr",
     "output_type": "stream",
     "text": [
      "Using TensorFlow backend.\n"
     ]
    }
   ],
   "source": [
    "from keras.layers import Input, TimeDistributed, LSTM, Bidirectional\n",
    "from keras.models import Model\n",
    "from layers import Highway, Similarity, C2QAttention, Q2CAttention, MergedContext, SpanBegin, SpanEnd, CombineOutputs\n",
    "from scripts import negative_avg_log_error, BatchGenerator"
   ]
  },
  {
   "cell_type": "code",
   "execution_count": 3,
   "metadata": {},
   "outputs": [],
   "source": [
    "question_input = Input(shape=(None, emdim), dtype='float32', name=\"question_input\")\n",
    "passage_input = Input(shape=(None, emdim), dtype='float32', name=\"passage_input\")"
   ]
  },
  {
   "cell_type": "code",
   "execution_count": 4,
   "metadata": {},
   "outputs": [],
   "source": [
    "# def highway_layer(value, activation=\"tanh\", transform_gate_bias=-1.0):\n",
    "#     dim = K.int_shape(value)[-1]\n",
    "#     transform_gate_bias_initializer = keras.initializers.Constant(transform_gate_bias)\n",
    "#     transform_gate = Dense(units=dim, bias_initializer=transform_gate_bias_initializer)(value)\n",
    "#     transform_gate = Activation(\"sigmoid\")(transform_gate)\n",
    "#     carry_gate = Lambda(lambda x: 1.0 - x, output_shape=(dim,))(transform_gate)\n",
    "#     transformed_data = Dense(units=dim)(value)\n",
    "#     transformed_data = Activation(activation)(transformed_data)\n",
    "#     transformed_gated = Multiply()([transform_gate, transformed_data])\n",
    "#     identity_gated = Multiply()([carry_gate, value])\n",
    "#     value = Add()([transformed_gated, identity_gated])\n",
    "#     return value"
   ]
  },
  {
   "cell_type": "code",
   "execution_count": 5,
   "metadata": {},
   "outputs": [],
   "source": [
    "num_highway_layers = 2"
   ]
  },
  {
   "cell_type": "code",
   "execution_count": 6,
   "metadata": {},
   "outputs": [],
   "source": [
    "for i in range(num_highway_layers):\n",
    "    highway_layer = Highway(name='highway_{}'.format(i))\n",
    "    question_layer = TimeDistributed(highway_layer, name=highway_layer.name + \"_qtd\")\n",
    "    question_embedding = question_layer(question_input)\n",
    "    passage_layer = TimeDistributed(highway_layer, name=highway_layer.name + \"_ptd\")\n",
    "    passage_embedding = passage_layer(passage_input)"
   ]
  },
  {
   "cell_type": "code",
   "execution_count": 7,
   "metadata": {},
   "outputs": [],
   "source": [
    "# model = keras.models.Sequential()\n",
    "# model.add(Dense(15, input_shape=(5, 125, 10)))\n",
    "# model.summary()"
   ]
  },
  {
   "cell_type": "code",
   "execution_count": 8,
   "metadata": {},
   "outputs": [],
   "source": [
    "# a = {'a': 1}\n",
    "# b = a.get('b')\n",
    "# print(b)\n",
    "# b in a"
   ]
  },
  {
   "cell_type": "code",
   "execution_count": 9,
   "metadata": {},
   "outputs": [],
   "source": [
    "# a = {'a': 1}\n",
    "# b = a.pop('a')\n",
    "# print(b)\n",
    "# print(a)"
   ]
  },
  {
   "cell_type": "code",
   "execution_count": 10,
   "metadata": {
    "scrolled": true
   },
   "outputs": [],
   "source": [
    "encoder_layer = Bidirectional(LSTM(emdim, return_sequences=True), name='bidirectional_encoder')\n",
    "encoded_question = encoder_layer(question_embedding)\n",
    "encoded_passage = encoder_layer(passage_embedding)"
   ]
  },
  {
   "cell_type": "code",
   "execution_count": 11,
   "metadata": {},
   "outputs": [],
   "source": [
    "similarity_matrix = Similarity(name='similarity_layer')([encoded_passage, encoded_question])"
   ]
  },
  {
   "cell_type": "code",
   "execution_count": 12,
   "metadata": {},
   "outputs": [],
   "source": [
    "# import numpy as np\n",
    "# a = np.random.random((600, 1))\n",
    "# b = np.random.random((600, 1))\n",
    "# c = np.dot(a.T, b)\n",
    "# print(c)"
   ]
  },
  {
   "cell_type": "code",
   "execution_count": 13,
   "metadata": {},
   "outputs": [],
   "source": [
    "context_to_query_attention = C2QAttention(name='context_to_query_attention')([similarity_matrix, encoded_passage])\n",
    "query_to_context_attention = Q2CAttention(name='query_to_context_attention')([similarity_matrix, encoded_question])"
   ]
  },
  {
   "cell_type": "code",
   "execution_count": 14,
   "metadata": {},
   "outputs": [],
   "source": [
    "merged_context = MergedContext(name='merged_context')([encoded_passage, context_to_query_attention, query_to_context_attention])"
   ]
  },
  {
   "cell_type": "code",
   "execution_count": 15,
   "metadata": {},
   "outputs": [],
   "source": [
    "num_decoders = 1"
   ]
  },
  {
   "cell_type": "code",
   "execution_count": 16,
   "metadata": {},
   "outputs": [],
   "source": [
    "modeled_passage = merged_context\n",
    "for i in range(num_decoders):\n",
    "    hidden_layer = Bidirectional(LSTM(emdim, return_sequences=True), name='bidirectional_decoder_{}'.format(i))\n",
    "    modeled_passage = hidden_layer(modeled_passage)"
   ]
  },
  {
   "cell_type": "code",
   "execution_count": 17,
   "metadata": {},
   "outputs": [],
   "source": [
    "span_begin_probabilities = SpanBegin(name='span_begin')([merged_context, modeled_passage])\n",
    "span_end_probabilities = SpanEnd(name='span_end')([encoded_passage, merged_context, modeled_passage, span_begin_probabilities])"
   ]
  },
  {
   "cell_type": "code",
   "execution_count": 18,
   "metadata": {},
   "outputs": [],
   "source": [
    "output = CombineOutputs(name='combine_outputs')([span_begin_probabilities, span_end_probabilities])"
   ]
  },
  {
   "cell_type": "code",
   "execution_count": null,
   "metadata": {},
   "outputs": [],
   "source": []
  },
  {
   "cell_type": "code",
   "execution_count": 19,
   "metadata": {},
   "outputs": [],
   "source": [
    "model = Model([question_input, passage_input], [output])"
   ]
  },
  {
   "cell_type": "code",
   "execution_count": 20,
   "metadata": {},
   "outputs": [
    {
     "name": "stdout",
     "output_type": "stream",
     "text": [
      "__________________________________________________________________________________________________\n",
      "Layer (type)                    Output Shape         Param #     Connected to                     \n",
      "==================================================================================================\n",
      "passage_input (InputLayer)      (None, None, 600)    0                                            \n",
      "__________________________________________________________________________________________________\n",
      "question_input (InputLayer)     (None, None, 600)    0                                            \n",
      "__________________________________________________________________________________________________\n",
      "highway_1_ptd (TimeDistributed) (None, None, 600)    0           passage_input[0][0]              \n",
      "__________________________________________________________________________________________________\n",
      "highway_1_qtd (TimeDistributed) (None, None, 600)    0           question_input[0][0]             \n",
      "__________________________________________________________________________________________________\n",
      "bidirectional_encoder (Bidirect (None, None, 1200)   5764800     highway_1_qtd[0][0]              \n",
      "                                                                 highway_1_ptd[0][0]              \n",
      "__________________________________________________________________________________________________\n",
      "similarity_layer (Similarity)   (None, None, None)   3601        bidirectional_encoder[1][0]      \n",
      "                                                                 bidirectional_encoder[0][0]      \n",
      "__________________________________________________________________________________________________\n",
      "context_to_query_attention (C2Q (None, None, 1200)   0           similarity_layer[0][0]           \n",
      "                                                                 bidirectional_encoder[1][0]      \n",
      "__________________________________________________________________________________________________\n",
      "query_to_context_attention (Q2C (None, None, 1200)   0           similarity_layer[0][0]           \n",
      "                                                                 bidirectional_encoder[0][0]      \n",
      "__________________________________________________________________________________________________\n",
      "merged_context (MergedContext)  (None, None, 4800)   0           bidirectional_encoder[1][0]      \n",
      "                                                                 context_to_query_attention[0][0] \n",
      "                                                                 query_to_context_attention[0][0] \n",
      "__________________________________________________________________________________________________\n",
      "bidirectional_decoder_0 (Bidire (None, None, 1200)   25924800    merged_context[0][0]             \n",
      "__________________________________________________________________________________________________\n",
      "span_begin (SpanBegin)          (None, None)         0           merged_context[0][0]             \n",
      "                                                                 bidirectional_decoder_0[0][0]    \n",
      "__________________________________________________________________________________________________\n",
      "span_end (SpanEnd)              (None, None)         0           bidirectional_encoder[1][0]      \n",
      "                                                                 merged_context[0][0]             \n",
      "                                                                 bidirectional_decoder_0[0][0]    \n",
      "                                                                 span_begin[0][0]                 \n",
      "__________________________________________________________________________________________________\n",
      "combine_outputs (CombineOutputs (2, None, None)      0           span_begin[0][0]                 \n",
      "                                                                 span_end[0][0]                   \n",
      "==================================================================================================\n",
      "Total params: 31,693,201\n",
      "Trainable params: 31,693,201\n",
      "Non-trainable params: 0\n",
      "__________________________________________________________________________________________________\n"
     ]
    }
   ],
   "source": [
    "model.summary()"
   ]
  },
  {
   "cell_type": "code",
   "execution_count": 21,
   "metadata": {},
   "outputs": [],
   "source": [
    "model.compile(loss=negative_avg_log_error, optimizer='adadelta', metrics=[negative_avg_log_error])"
   ]
  },
  {
   "cell_type": "code",
   "execution_count": 22,
   "metadata": {},
   "outputs": [],
   "source": [
    "train_generator = BatchGenerator('train', batch_size=1)\n",
    "validate_generator = BatchGenerator('dev', batch_size=1)"
   ]
  },
  {
   "cell_type": "code",
   "execution_count": null,
   "metadata": {},
   "outputs": [
    {
     "name": "stdout",
     "output_type": "stream",
     "text": [
      "Epoch 1/1\n"
     ]
    }
   ],
   "source": [
    "model.fit_generator(train_generator, steps_per_epoch=1, epochs=1, validation_data=validate_generator, validation_steps=1)"
   ]
  },
  {
   "cell_type": "code",
   "execution_count": null,
   "metadata": {},
   "outputs": [],
   "source": [
    "# import numpy as np\n",
    "# a = np.random.random((10, 1))\n",
    "# b = np.random.random((10, 1))\n",
    "# # print(a)\n",
    "# print(b[0])\n",
    "# for v in a:\n",
    "#     for w in b:\n",
    "#         print(w)\n",
    "# #         c = a*b\n",
    "# #         print(c)\n",
    "#         break\n",
    "#     break"
   ]
  },
  {
   "cell_type": "code",
   "execution_count": null,
   "metadata": {},
   "outputs": [],
   "source": [
    "# print(encoded_question.shape[0])"
   ]
  },
  {
   "cell_type": "code",
   "execution_count": null,
   "metadata": {},
   "outputs": [],
   "source": [
    "# import numpy as np\n",
    "# from keras.layers import concatenate, multiply, dot, Input\n",
    "\n",
    "\n",
    "# def concatenate_and_multiply(context_vector, query_vector):\n",
    "#     element_wise_mul = multiply([context_vector, query_vector], axis=-1)\n",
    "#     concatenate_vecs = concatenate([context_vector, query_vector, element_wise_mul], axis=-1)\n",
    "#     return concatenate_vecs\n",
    "\n",
    "\n",
    "# a = np.random.random((10, 10, 20))\n",
    "# b = np.random.random((10, 15, 20))\n",
    "# v = Input(shape=(10, 20))\n",
    "# w = Input(shape=(15, 20))\n",
    "\n",
    "# kernel = np.random.random((60, ))\n",
    "# concatenated_vector = concatenate_and_multiply(v, w)\n",
    "# result = dot([kernel, concatenated_vector], axes=-1)\n",
    "# print(result.shape)"
   ]
  },
  {
   "cell_type": "code",
   "execution_count": null,
   "metadata": {},
   "outputs": [],
   "source": [
    "# import numpy as np \n",
    "# from keras import backend as K \n",
    "\n",
    "# A = np.random.random((1000,32,64,3))\n",
    "# # B = np.moveaxis( A, 3, 1)\n",
    "# C = np.transpose( A, (0,3,1,2))\n",
    "\n",
    "# print(A.shape)\n",
    "# print(C.shape)\n",
    "\n",
    "# A_t = K.variable(A)\n",
    "# C_t = K.permute_dimensions(A_t, (0,3,1,2))\n",
    "\n",
    "# print(K.eval(A_t).shape)\n",
    "# print(K.eval(C_t).shape)"
   ]
  },
  {
   "cell_type": "code",
   "execution_count": null,
   "metadata": {},
   "outputs": [],
   "source": [
    "# import numpy as np \n",
    "# from keras import backend as K \n",
    "# from keras.models import Input, Model\n",
    "# from keras.layers.advanced_activations import Softmax\n",
    "\n",
    "# A = np.random.random((10,32,64)).astype('float32')\n",
    "\n",
    "# i = Input(shape=(32,64), dtype='float32')\n",
    "# o = Softmax(axis=-1)(i)\n",
    "# model = Model([i], [o])\n",
    "# y = model.predict([A])\n",
    "# print(y)\n",
    "# print(y.shape)\n",
    "# print(np.sum(y, axis=-2))\n",
    "# print(np.sum(y, axis=-1))\n",
    "# print(np.sum(y, axis=-1).shape)\n",
    "# print(np.sum(y, axis=-2).shape)"
   ]
  },
  {
   "cell_type": "code",
   "execution_count": null,
   "metadata": {},
   "outputs": [],
   "source": [
    "# import numpy as np \n",
    "# from keras import backend as K \n",
    "\n",
    "# A = np.random.random((32,6))\n",
    "# # B = np.moveaxis( A, 3, 1)\n",
    "# # C = np.transpose( A, (0,3,1,2))\n",
    "# B = np.random.random((32, 6))\n",
    "\n",
    "# print(A.shape)\n",
    "# print(B.shape)\n",
    "\n",
    "# def mul(x):\n",
    "#     A, B = x\n",
    "#     print(K.int_shape(A))\n",
    "#     print(K.int_shape(B))\n",
    "#     return A*B\n",
    "\n",
    "# A_t = K.variable(A)\n",
    "# B_t = K.variable(B)\n",
    "# # C_t = K.permute_dimensions(A_t, (0,3,1,2))\n",
    "\n",
    "# C = K.map_fn(mul, (A_t, B_t), dtype='float32')\n",
    "\n",
    "# y = K.eval(C)"
   ]
  },
  {
   "cell_type": "code",
   "execution_count": null,
   "metadata": {},
   "outputs": [],
   "source": []
  },
  {
   "cell_type": "code",
   "execution_count": null,
   "metadata": {},
   "outputs": [],
   "source": []
  },
  {
   "cell_type": "code",
   "execution_count": null,
   "metadata": {},
   "outputs": [],
   "source": []
  },
  {
   "cell_type": "code",
   "execution_count": null,
   "metadata": {},
   "outputs": [],
   "source": []
  },
  {
   "cell_type": "code",
   "execution_count": null,
   "metadata": {},
   "outputs": [],
   "source": []
  },
  {
   "cell_type": "code",
   "execution_count": null,
   "metadata": {},
   "outputs": [],
   "source": []
  }
 ],
 "metadata": {
  "kernelspec": {
   "display_name": "Python 3",
   "language": "python",
   "name": "python3"
  },
  "language_info": {
   "codemirror_mode": {
    "name": "ipython",
    "version": 3
   },
   "file_extension": ".py",
   "mimetype": "text/x-python",
   "name": "python",
   "nbconvert_exporter": "python",
   "pygments_lexer": "ipython3",
   "version": "3.6.6"
  }
 },
 "nbformat": 4,
 "nbformat_minor": 2
}
